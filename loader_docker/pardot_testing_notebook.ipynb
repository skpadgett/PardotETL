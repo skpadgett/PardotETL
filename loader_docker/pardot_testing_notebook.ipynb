{
 "cells": [
  {
   "cell_type": "code",
   "execution_count": 1,
   "metadata": {},
   "outputs": [],
   "source": [
    "import time\n",
    "import datetime as dt\n",
    "import pandas as pd\n",
    "import snowflake.connector\n",
    "from pypardot.client import PardotAPI, PardotAPIError\n",
    "import snowflake.connector\n",
    "import requests\n"
   ]
  },
  {
   "cell_type": "code",
   "execution_count": 2,
   "metadata": {},
   "outputs": [],
   "source": [
    "PARDOT_EMAIL=\"segment_integrations@discoveryed.com\"\n",
    "PARDOT_USER_KEY=\"f5a1dc61d079e35d9a2066a4a8498c32\"\n",
    "PARDOT_SF_CONSUMER_KEY=\"3MVG9IHf89I1t8hpom1l0QzbTANHH.MOASIZ3yPPhu6hFI_uipXiYi7ku85yMWg_2gXxu5bzAyWCevOHp4jrf\"\n",
    "PARDOT_SF_CONSUMER_SECRET=\"BC6C2AA5D41DC0EBBBB3376CD329E92E66BD8D85DF85F9FAB9F22E86D857A29E\"\n",
    "PARDOT_SF_REFRESH_TOKEN=\"5Aep8618yVsldz6rZPMv4ouelrGoRNAfdaLSjo3.ILw4jdNGemJVI_MNYFoNkN9g39GUXqUEgzw3ylEVMjxAU3X\"\n",
    "PARDOT_BUSINESS_UNIT_ID=\"0Uv4P000000TNB0SAO\"\n",
    "PARDOT_API_VERSION=4\n",
    "PARDOT_MAX_RESULT_COUNT = 200\n",
    "SNOWFLAKE_ACCOUNT_IDENTIFIER=\"UK29315.us-east-1\"\n",
    "SNOWFLAKE_USER=\"PardotEtlUser@discoveryed.com\"\n",
    "SNOWFLAKE_PASS=\"p@rd0tEtlUser\"\n",
    "SF_SCHEMA = \"PROD_DATA_VAULT\""
   ]
  },
  {
   "cell_type": "code",
   "execution_count": 85,
   "metadata": {},
   "outputs": [],
   "source": [
    "def get_client_pardot() -> PardotAPI:\n",
    "    try:\n",
    "        p = PardotAPI(\n",
    "            email=PARDOT_EMAIL,\n",
    "            user_key=PARDOT_USER_KEY,\n",
    "            sf_consumer_key=PARDOT_SF_CONSUMER_KEY,\n",
    "            sf_consumer_secret=PARDOT_SF_CONSUMER_SECRET,\n",
    "            sf_refresh_token=PARDOT_SF_REFRESH_TOKEN,\n",
    "            business_unit_id=PARDOT_BUSINESS_UNIT_ID,\n",
    "            version=PARDOT_API_VERSION,\n",
    "        )\n",
    "\n",
    "        if not p.authenticate():\n",
    "            p.campaigns.query(limit=1)\n",
    "            # ^ Must call query to authenticate if authenticatation is unsuccessful\n",
    "\n",
    "    except PardotAPIError as err:\n",
    "        raise\n",
    "\n",
    "    assert (\n",
    "        p.sftoken != \"dummy\"\n",
    "    ), \"Pardot authentication still unsuccessful after querying\"\n",
    "\n",
    "    return p\n",
    "\n",
    "def get_client_snowflake():\n",
    "    return snowflake.connector.connect(\n",
    "        user=SNOWFLAKE_USER,\n",
    "        password=SNOWFLAKE_PASS,\n",
    "        account=SNOWFLAKE_ACCOUNT_IDENTIFIER,\n",
    "        # authenticator=\"externalbrowser\",\n",
    "        warehouse=\"GENERAL_COMPUTE_WH\",\n",
    "        database=\"PROD_DATA_VAULT\",\n",
    "        schema=\"STAGE\",\n",
    "    )\n",
    "\n",
    "def query_sf(query_str):\n",
    "    ctx = get_client_snowflake()\n",
    "    cs = ctx.cursor()\n",
    "    cs.execute(query_str)\n",
    "    data =  cs.fetchall()  \n",
    "    columns = [f'{col[0]}' for col in cs.description]\n",
    "    return pd.DataFrame(data,columns=columns)"
   ]
  },
  {
   "cell_type": "code",
   "execution_count": 44,
   "metadata": {},
   "outputs": [],
   "source": [
    "p = get_client_pardot()"
   ]
  },
  {
   "cell_type": "code",
   "execution_count": 102,
   "metadata": {},
   "outputs": [],
   "source": [
    "tables = [\n",
    "'Campaign',\n",
    "'Form',\n",
    "'Tag',\n",
    "'Opportunity',\n",
    "'EmailClick',\n",
    "'List',\n",
    "'Account',\n",
    "'TagObject',\n",
    "\"Prospect\",\n",
    "\"VisitorActivity\",\n",
    "\"Visitor\",\n",
    "\"ListMembership\",\n",
    "\"ProspectAccount\"\n",
    "]\n",
    "\n",
    "tag_object_types = [\"Email\",\"Campaign\",\"List\"]\n",
    "\n",
    "DICT_CONVERSION_PURAL = {\n",
    "    \"Account\": \"accounts\",\n",
    "    \"EmailClick\": \"emailclicks\",\n",
    "    \"Email\": \"emails\",\n",
    "    \"VisitorActivity\": \"visitoractivities\",\n",
    "    \"Campaign\": \"campaigns\",\n",
    "    \"List\": \"lists\",\n",
    "    \"Prospect\": \"prospects\",\n",
    "    \"TagObject\": \"tagobjects\",\n",
    "    \"Tag\": \"tags\",\n",
    "    \"Opportunity\": \"opportunities\",\n",
    "    \"ProspectAccounts\": \"prospectaccounts\",\n",
    "    \"Form\": \"forms\",\n",
    "    \"ListMembership\": \"listmemberships\",\n",
    "    \"Visitor\": \"visitors\",\n",
    "    \"ProspectAccount\": \"prospectaccounts\",\n",
    "}\n"
   ]
  },
  {
   "cell_type": "code",
   "execution_count": 55,
   "metadata": {},
   "outputs": [],
   "source": [
    "def helper_to_camelCase(s: str) -> str:\n",
    "    \"Return the same string with the first letter lowercase\"\n",
    "    return str(s[0].lower() + s[1:])"
   ]
  },
  {
   "cell_type": "code",
   "execution_count": 104,
   "metadata": {},
   "outputs": [
    {
     "name": "stdout",
     "output_type": "stream",
     "text": [
      "Campaign\n",
      "Form\n",
      "Tag\n",
      "Opportunity\n",
      "EmailClick\n",
      "List\n",
      "Account\n",
      "TagObject\n",
      "Prospect\n",
      "VisitorActivity\n",
      "Visitor\n",
      "ListMembership\n",
      "ProspectAccount\n"
     ]
    }
   ],
   "source": [
    "expected_results = {}\n",
    "for data_type in tables:\n",
    "    try:\n",
    "        print(data_type)\n",
    "        data_client = getattr(p, DICT_CONVERSION_PURAL[data_type])\n",
    "        if not hasattr(data_client, \"query\"):\n",
    "            # If the data_client doesn't have a query method, try the \"read\" method\n",
    "            data = data_client.read()[helper_to_camelCase(data_type)]\n",
    "            if isinstance(data, dict):\n",
    "                # Assume only one record\n",
    "                expected_results[data_type]=1\n",
    "            elif isinstance(data, list):\n",
    "                expected_results[data_type]=len(data)\n",
    "        else:\n",
    "            if data_type==\"TagObject\":\n",
    "                counter = 0\n",
    "                for tag_type in tag_object_types:\n",
    "                    time.sleep(2)\n",
    "                    data_raw = data_client.query(limit=1,type=tag_type)\n",
    "                    counter = counter + data_raw[\"total_results\"]\n",
    "                expected_results[data_type] = counter\n",
    "            else:\n",
    "                data_raw = data_client.query(limit=1)\n",
    "                expected_results[data_type]=data_raw[\"total_results\"]\n",
    "    except:\n",
    "        print(f\"{data_type} failed\")\n",
    "        raise\n",
    "\n"
   ]
  },
  {
   "cell_type": "code",
   "execution_count": 100,
   "metadata": {},
   "outputs": [],
   "source": [
    "tables = ['Campaign',\n",
    "'Form',\n",
    "'Tag',\n",
    "'Opportunity',\n",
    "'EmailClick',\n",
    "'List',\n",
    "'Account',\n",
    "'TagObject',\n",
    "\"Email\",\n",
    "\"Prospect\",\n",
    "\"VisitorActivity\",\n",
    "\"Visitor\",\n",
    "\"ListMembership\",\n",
    "\"ProspectAccount\"]\n",
    "\n",
    "queries = []\n",
    "for table in tables:\n",
    "    if table == \"TagObject\":\n",
    "        sql_template = f\"\"\"select a.data_object,count_market_distinct,count_market_total,count_stage_distinct,count_stage_total from (\n",
    "        select '{table}' as data_object,count(distinct tag_object_id) as count_market_distinct, count(1) as count_market_total from prod_data_vault.marketing.{table}) a\n",
    "        left join (select '{table}' as data_object,count(distinct tag_object_id) as count_stage_distinct, count(1) as count_stage_total from prod_data_vault.stage.PARDOT_{table}) b\n",
    "        on a.data_object = b.data_object\"\"\"\n",
    "    elif table == \"VisitorActivity\":\n",
    "        sql_template = f\"\"\"select a.data_object,count_market_distinct,count_market_total,count_stage_distinct,count_stage_total from (\n",
    "        select '{table}' as data_object,count(distinct visitor_activity_id) as count_market_distinct, count(1) as count_market_total from prod_data_vault.marketing.{table}) a\n",
    "        left join (select '{table}' as data_object,count(distinct visitor_activity_id) as count_stage_distinct, count(1) as count_stage_total from prod_data_vault.stage.PARDOT_{table}) b\n",
    "        on a.data_object = b.data_object\"\"\"\n",
    "    else:\n",
    "        sql_template = f\"\"\"select a.data_object,count_market_distinct,count_market_total,count_stage_distinct,count_stage_total from (\n",
    "        select '{table}' as data_object,count(distinct {table}_id) as count_market_distinct, count(1) as count_market_total from prod_data_vault.marketing.{table}) a\n",
    "        left join (select '{table}' as data_object,count(distinct {table}_id) as count_stage_distinct, count(1) as count_stage_total from prod_data_vault.stage.PARDOT_{table}) b\n",
    "        on a.data_object = b.data_object\"\"\"\n",
    "    queries.append(sql_template)\n",
    "\n",
    "query_join = ' union all '.join(queries)\n",
    "\n",
    "email_query = \"\"\"select \n",
    "        count(distinct a.list_email_id) as expected\n",
    "        from PARDOT_VISITORACTIVITY a\n",
    "        where a.email_id is not null and a.list_email_id is not null\"\"\"\n",
    "\n",
    "sf_data = query_sf(query_join)\n",
    "\n",
    "try:\n",
    "    ctx = get_client_snowflake()\n",
    "    cs = ctx.cursor()\n",
    "    cs.execute(email_query)\n",
    "    email_expected =  cs.fetchone()[0]\n",
    "finally:\n",
    "    cs.close()\n",
    "ctx.close()\n",
    "\n",
    "# Add expected count for email object\n",
    "sf_data.loc[sf_data[\"DATA_OBJECT\"]==\"Email\",\"EXPECTED\"] = email_expected"
   ]
  },
  {
   "cell_type": "code",
   "execution_count": 105,
   "metadata": {},
   "outputs": [
    {
     "data": {
      "text/html": "<div>\n<style scoped>\n    .dataframe tbody tr th:only-of-type {\n        vertical-align: middle;\n    }\n\n    .dataframe tbody tr th {\n        vertical-align: top;\n    }\n\n    .dataframe thead th {\n        text-align: right;\n    }\n</style>\n<table border=\"1\" class=\"dataframe\">\n  <thead>\n    <tr style=\"text-align: right;\">\n      <th></th>\n      <th>DATA_OBJECT</th>\n      <th>COUNT_MARKET_DISTINCT</th>\n      <th>COUNT_MARKET_TOTAL</th>\n      <th>COUNT_STAGE_DISTINCT</th>\n      <th>COUNT_STAGE_TOTAL</th>\n      <th>EXPECTED</th>\n      <th>DIFFERENCE</th>\n      <th>EXPECT_ISSUE</th>\n      <th>MARKET_ISSUE</th>\n    </tr>\n  </thead>\n  <tbody>\n    <tr>\n      <th>0</th>\n      <td>Campaign</td>\n      <td>552</td>\n      <td>552</td>\n      <td>552</td>\n      <td>1655</td>\n      <td>552.0</td>\n      <td>0.0</td>\n      <td>CORRECT</td>\n      <td>NaN</td>\n    </tr>\n    <tr>\n      <th>1</th>\n      <td>Form</td>\n      <td>14</td>\n      <td>14</td>\n      <td>14</td>\n      <td>27</td>\n      <td>14.0</td>\n      <td>0.0</td>\n      <td>CORRECT</td>\n      <td>NaN</td>\n    </tr>\n    <tr>\n      <th>2</th>\n      <td>Tag</td>\n      <td>174</td>\n      <td>174</td>\n      <td>174</td>\n      <td>178</td>\n      <td>174.0</td>\n      <td>0.0</td>\n      <td>CORRECT</td>\n      <td>NaN</td>\n    </tr>\n    <tr>\n      <th>3</th>\n      <td>Opportunity</td>\n      <td>8499</td>\n      <td>8499</td>\n      <td>8503</td>\n      <td>12014</td>\n      <td>8503.0</td>\n      <td>0.0</td>\n      <td>CORRECT</td>\n      <td>NaN</td>\n    </tr>\n    <tr>\n      <th>4</th>\n      <td>EmailClick</td>\n      <td>1142960</td>\n      <td>1142960</td>\n      <td>1143599</td>\n      <td>1144830</td>\n      <td>1143599.0</td>\n      <td>0.0</td>\n      <td>CORRECT</td>\n      <td>NaN</td>\n    </tr>\n    <tr>\n      <th>5</th>\n      <td>List</td>\n      <td>1800</td>\n      <td>1800</td>\n      <td>1803</td>\n      <td>1809</td>\n      <td>1801.0</td>\n      <td>-2.0</td>\n      <td>EXPECTED LOWER</td>\n      <td>NaN</td>\n    </tr>\n    <tr>\n      <th>6</th>\n      <td>Account</td>\n      <td>1</td>\n      <td>1</td>\n      <td>1</td>\n      <td>3</td>\n      <td>1.0</td>\n      <td>0.0</td>\n      <td>CORRECT</td>\n      <td>NaN</td>\n    </tr>\n    <tr>\n      <th>7</th>\n      <td>TagObject</td>\n      <td>3485</td>\n      <td>3485</td>\n      <td>3491</td>\n      <td>3510</td>\n      <td>3505.0</td>\n      <td>14.0</td>\n      <td>DATA MISSING</td>\n      <td>NaN</td>\n    </tr>\n    <tr>\n      <th>8</th>\n      <td>Email</td>\n      <td>0</td>\n      <td>0</td>\n      <td>7886</td>\n      <td>7886</td>\n      <td>7886.0</td>\n      <td>0.0</td>\n      <td>CORRECT</td>\n      <td>NaN</td>\n    </tr>\n    <tr>\n      <th>9</th>\n      <td>Prospect</td>\n      <td>4714969</td>\n      <td>4714969</td>\n      <td>4715487</td>\n      <td>4716028</td>\n      <td>4716658.0</td>\n      <td>1171.0</td>\n      <td>DATA MISSING</td>\n      <td>NaN</td>\n    </tr>\n    <tr>\n      <th>10</th>\n      <td>VisitorActivity</td>\n      <td>148525021</td>\n      <td>148525021</td>\n      <td>148525021</td>\n      <td>148525021</td>\n      <td>148573932.0</td>\n      <td>48911.0</td>\n      <td>DATA MISSING</td>\n      <td>NaN</td>\n    </tr>\n    <tr>\n      <th>11</th>\n      <td>Visitor</td>\n      <td>4001663</td>\n      <td>4001663</td>\n      <td>4001663</td>\n      <td>4001663</td>\n      <td>272651.0</td>\n      <td>-3729012.0</td>\n      <td>EXPECTED LOWER</td>\n      <td>NaN</td>\n    </tr>\n    <tr>\n      <th>12</th>\n      <td>ListMembership</td>\n      <td>0</td>\n      <td>0</td>\n      <td>108743767</td>\n      <td>108743767</td>\n      <td>121851266.0</td>\n      <td>13107499.0</td>\n      <td>DATA MISSING</td>\n      <td>NaN</td>\n    </tr>\n    <tr>\n      <th>13</th>\n      <td>ProspectAccount</td>\n      <td>120767</td>\n      <td>120767</td>\n      <td>120769</td>\n      <td>120771</td>\n      <td>120769.0</td>\n      <td>0.0</td>\n      <td>CORRECT</td>\n      <td>NaN</td>\n    </tr>\n  </tbody>\n</table>\n</div>",
      "text/plain": "        DATA_OBJECT  COUNT_MARKET_DISTINCT  COUNT_MARKET_TOTAL  \\\n0          Campaign                    552                 552   \n1              Form                     14                  14   \n2               Tag                    174                 174   \n3       Opportunity                   8499                8499   \n4        EmailClick                1142960             1142960   \n5              List                   1800                1800   \n6           Account                      1                   1   \n7         TagObject                   3485                3485   \n8             Email                      0                   0   \n9          Prospect                4714969             4714969   \n10  VisitorActivity              148525021           148525021   \n11          Visitor                4001663             4001663   \n12   ListMembership                      0                   0   \n13  ProspectAccount                 120767              120767   \n\n    COUNT_STAGE_DISTINCT  COUNT_STAGE_TOTAL     EXPECTED  DIFFERENCE  \\\n0                    552               1655        552.0         0.0   \n1                     14                 27         14.0         0.0   \n2                    174                178        174.0         0.0   \n3                   8503              12014       8503.0         0.0   \n4                1143599            1144830    1143599.0         0.0   \n5                   1803               1809       1801.0        -2.0   \n6                      1                  3          1.0         0.0   \n7                   3491               3510       3505.0        14.0   \n8                   7886               7886       7886.0         0.0   \n9                4715487            4716028    4716658.0      1171.0   \n10             148525021          148525021  148573932.0     48911.0   \n11               4001663            4001663     272651.0  -3729012.0   \n12             108743767          108743767  121851266.0  13107499.0   \n13                120769             120771     120769.0         0.0   \n\n      EXPECT_ISSUE MARKET_ISSUE  \n0          CORRECT          NaN  \n1          CORRECT          NaN  \n2          CORRECT          NaN  \n3          CORRECT          NaN  \n4          CORRECT          NaN  \n5   EXPECTED LOWER          NaN  \n6          CORRECT          NaN  \n7     DATA MISSING          NaN  \n8          CORRECT          NaN  \n9     DATA MISSING          NaN  \n10    DATA MISSING          NaN  \n11  EXPECTED LOWER          NaN  \n12    DATA MISSING          NaN  \n13         CORRECT          NaN  "
     },
     "execution_count": 105,
     "metadata": {},
     "output_type": "execute_result"
    }
   ],
   "source": [
    "# Add expected count for all the other data objects\n",
    "for d_obj, exected in expected_results.items():\n",
    "    sf_data.loc[sf_data[\"DATA_OBJECT\"]==d_obj,\"EXPECTED\"] = exected\n",
    "\n",
    "# Determine discrepancy between expected and whats in stage\n",
    "sf_data[\"DIFFERENCE\"] = sf_data[\"EXPECTED\"]-sf_data[\"COUNT_STAGE_DISTINCT\"]\n",
    "\n",
    "# Issues with # of records compared to whats expected to come out of Pardot\n",
    "# It's almost never going to be perfect, but just check that it's relatively close\n",
    "sf_data.loc[sf_data[\"EXPECTED\"]<sf_data[\"COUNT_STAGE_DISTINCT\"],\"EXPECT_ISSUE\"] = \"EXPECTED LOWER\"\n",
    "sf_data.loc[sf_data[\"EXPECTED\"]>sf_data[\"COUNT_STAGE_DISTINCT\"],\"EXPECT_ISSUE\"] = \"DATA MISSING\"\n",
    "sf_data.loc[sf_data[\"EXPECTED\"]==sf_data[\"COUNT_STAGE_DISTINCT\"],\"EXPECT_ISSUE\"] = \"CORRECT\"\n",
    "# Issues with duplicates in marketing schema\n",
    "sf_data.loc[sf_data[\"COUNT_MARKET_DISTINCT\"]<sf_data[\"COUNT_MARKET_TOTAL\"],\"MARKET_ISSUE\"] = \"DUPLICATES IN MARKET\"\n",
    "\n",
    "sf_data\n",
    "\n",
    "# DATA OBJECT - which dataset this refers to\n",
    "# COUNT_MARKET_DISTINCT - how many distinct IDs are in the marketing schema table\n",
    "# COUNT_MARKET_TOTAL - how many total IDs are in the marketing schema table (this is used to check for duplicates against COUNT_MARKET_DISTINCT)\n",
    "# COUNT_STAGE_DISTINCT - how many distinct IDs are in the stage schema table (this is compared to COUNT_MARKET_DISTINCT to determine if all records from stage have been synced to marketing)\n",
    "# COUNT_STAGE_TOTAL - how many total IDs are in the stage schema table\n",
    "# EXPECTED - This is how many records for each dataset currently exist in pardot. We expected COUNT_STAGE_DISTINCT to be very close to this number\n",
    "# DIFFERENCE - Difference between EXPECTED and COUNT_STAGE_DISTINCT. Negative numbers mean data is in the warehouse that potentially shouldn't be. Positive means we are missing data. Just need to check it's close\n",
    "# EXPECT_ISSUE - Flags if data is missing or if extra data exists\n",
    "# MARKET_ISSUE - Checks for duplicate IDs in the marketing schema\n"
   ]
  },
  {
   "cell_type": "code",
   "execution_count": 106,
   "metadata": {},
   "outputs": [
    {
     "data": {
      "text/plain": "'Waiting'"
     },
     "execution_count": 106,
     "metadata": {},
     "output_type": "execute_result"
    }
   ],
   "source": [
    "# CHECK ON THE STATUS OF A BULK EXPORT (USE THE ID LISTED IN THE CLOUDWATCH LOGS)\n",
    "headers = {\n",
    "    \"content-type\": \"application/json\",\n",
    "    \"Authorization\": f\"Bearer {p.sftoken}\",\n",
    "    \"Pardot-Business-Unit-Id\": PARDOT_BUSINESS_UNIT_ID,\n",
    "}\n",
    "PARDOT_API_VERSION = 4\n",
    "ID = 4522 #update this\n",
    "PARDOT_URL_API = f\"https://pi.pardot.com/api/export/version/{PARDOT_API_VERSION}/do/read/id/{ID}\"\n",
    "\n",
    "response = requests.get(\n",
    "    PARDOT_URL_API,\n",
    "            headers=headers,\n",
    "            params=((\"format\", \"json\"),),\n",
    "        )\n",
    "\n",
    "response.json()[\"export\"][\"state\"]\n",
    " "
   ]
  },
  {
   "cell_type": "code",
   "execution_count": 32,
   "metadata": {},
   "outputs": [
    {
     "data": {
      "text/html": "<div>\n<style scoped>\n    .dataframe tbody tr th:only-of-type {\n        vertical-align: middle;\n    }\n\n    .dataframe tbody tr th {\n        vertical-align: top;\n    }\n\n    .dataframe thead th {\n        text-align: right;\n    }\n</style>\n<table border=\"1\" class=\"dataframe\">\n  <thead>\n    <tr style=\"text-align: right;\">\n      <th></th>\n      <th>MAX(UPDATED_AT)</th>\n      <th>MIN(UPDATED_AT)</th>\n    </tr>\n  </thead>\n  <tbody>\n    <tr>\n      <th>0</th>\n      <td>2020-12-31 22:46:11-08:00</td>\n      <td>2020-03-24 11:16:50-07:00</td>\n    </tr>\n  </tbody>\n</table>\n</div>",
      "text/plain": "            MAX(UPDATED_AT)           MIN(UPDATED_AT)\n0 2020-12-31 22:46:11-08:00 2020-03-24 11:16:50-07:00"
     },
     "execution_count": 32,
     "metadata": {},
     "output_type": "execute_result"
    }
   ],
   "source": [
    "\n"
   ]
  },
  {
   "cell_type": "code",
   "execution_count": 52,
   "metadata": {},
   "outputs": [
    {
     "data": {
      "text/html": "<div>\n<style scoped>\n    .dataframe tbody tr th:only-of-type {\n        vertical-align: middle;\n    }\n\n    .dataframe tbody tr th {\n        vertical-align: top;\n    }\n\n    .dataframe thead th {\n        text-align: right;\n    }\n</style>\n<table border=\"1\" class=\"dataframe\">\n  <thead>\n    <tr style=\"text-align: right;\">\n      <th></th>\n      <th>DATE</th>\n      <th>DATEKEY</th>\n      <th>DAY_OF_MONTH</th>\n      <th>DAY_NAME</th>\n      <th>DAY_OF_WEEK</th>\n      <th>DAY_OF_YEAR</th>\n      <th>WEEK_OF_YEAR</th>\n      <th>MONTH_OF_YEAR</th>\n      <th>MONTH_NAME</th>\n      <th>QUARTER_OF_YEAR</th>\n      <th>...</th>\n      <th>SCHOOL_YEAR</th>\n      <th>SCHOOL_YEAR_START</th>\n      <th>SCHOOL_YEAR_END</th>\n      <th>PREV_SCHOOL_YEAR_START</th>\n      <th>PREV_SCHOOL_YEAR_END</th>\n      <th>ADJUSTED_SCHOOL_YEAR</th>\n      <th>ADJUSTED_WEEK_OF_SCHOOL_YEAR</th>\n      <th>ADJUSTED_DAY_OF_SCHOOL_YEAR</th>\n      <th>ADJUSTED_SCHOOL_YEAR_START</th>\n      <th>WEEK_OF_SCHOOL_YEAR_LABEL</th>\n    </tr>\n  </thead>\n  <tbody>\n    <tr>\n      <th>0</th>\n      <td>2005-10-10</td>\n      <td>20051010</td>\n      <td>10</td>\n      <td>Mon</td>\n      <td>1</td>\n      <td>283</td>\n      <td>41</td>\n      <td>10</td>\n      <td>Oct</td>\n      <td>4</td>\n      <td>...</td>\n      <td>2005-2006</td>\n      <td>2005-07-01</td>\n      <td>2006-06-30</td>\n      <td>2004-07-01</td>\n      <td>2005-06-30</td>\n      <td>2005-2006</td>\n      <td>15</td>\n      <td>99</td>\n      <td>2005-07-04</td>\n      <td>W15 - Oct</td>\n    </tr>\n  </tbody>\n</table>\n<p>1 rows × 25 columns</p>\n</div>",
      "text/plain": "         DATE   DATEKEY  DAY_OF_MONTH DAY_NAME  DAY_OF_WEEK  DAY_OF_YEAR  \\\n0  2005-10-10  20051010            10      Mon            1          283   \n\n   WEEK_OF_YEAR  MONTH_OF_YEAR MONTH_NAME  QUARTER_OF_YEAR  ...  SCHOOL_YEAR  \\\n0            41             10        Oct                4  ...    2005-2006   \n\n  SCHOOL_YEAR_START SCHOOL_YEAR_END PREV_SCHOOL_YEAR_START  \\\n0        2005-07-01      2006-06-30             2004-07-01   \n\n  PREV_SCHOOL_YEAR_END ADJUSTED_SCHOOL_YEAR ADJUSTED_WEEK_OF_SCHOOL_YEAR  \\\n0           2005-06-30            2005-2006                           15   \n\n  ADJUSTED_DAY_OF_SCHOOL_YEAR ADJUSTED_SCHOOL_YEAR_START  \\\n0                          99                 2005-07-04   \n\n  WEEK_OF_SCHOOL_YEAR_LABEL  \n0                 W15 - Oct  \n\n[1 rows x 25 columns]"
     },
     "execution_count": 52,
     "metadata": {},
     "output_type": "execute_result"
    }
   ],
   "source": [
    "# Calendar Table => prod_looker.dbt.calendar\n",
    "\n",
    "ctx = get_client_snowflake()\n",
    "cs = ctx.cursor()\n",
    "name_table_snowflake = \"PARDOT_OPPORTUNITY\"\n",
    "SF_SCHEMA = \"PROD_DATA_VAULT\"\n",
    "cs.execute(\"select * from prod_looker.dbt.calendar limit 1\")\n",
    "data =  cs.fetchall()  \n",
    "columns = [f'{col[0]}' for col in cs.description]\n",
    "\n",
    "pd.DataFrame(data,columns=columns)\n"
   ]
  }
 ],
 "metadata": {
  "kernelspec": {
   "display_name": "Python 3.9.5 64-bit",
   "name": "python395jvsc74a57bd07812ea015bdcee6f23a998adcdd2ef97c151c0c241b7b7070987d9313e41299d"
  },
  "language_info": {
   "codemirror_mode": {
    "name": "ipython",
    "version": 3
   },
   "file_extension": ".py",
   "mimetype": "text/x-python",
   "name": "python",
   "nbconvert_exporter": "python",
   "pygments_lexer": "ipython3",
   "version": "3.9.5"
  },
  "metadata": {
   "interpreter": {
    "hash": "7812ea015bdcee6f23a998adcdd2ef97c151c0c241b7b7070987d9313e41299d"
   }
  },
  "orig_nbformat": 2
 },
 "nbformat": 4,
 "nbformat_minor": 2
}