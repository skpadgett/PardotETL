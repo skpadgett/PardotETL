{
 "cells": [
  {
   "cell_type": "code",
   "execution_count": 65,
   "metadata": {},
   "outputs": [],
   "source": [
    "import os\n",
    "import io\n",
    "import time\n",
    "import json\n",
    "import datetime as dt\n",
    "import typing\n",
    "import requests\n",
    "\n",
    "import pandas as pd\n",
    "import snowflake.connector\n",
    "from pypardot.client import PardotAPI, PardotAPIError\n",
    "from xml.etree import ElementTree\n",
    "import snowflake.connector\n"
   ]
  },
  {
   "cell_type": "code",
   "execution_count": 66,
   "metadata": {},
   "outputs": [],
   "source": [
    "PARDOT_EMAIL=\"segment_integrations@discoveryed.com\"\n",
    "PARDOT_USER_KEY=\"f5a1dc61d079e35d9a2066a4a8498c32\"\n",
    "PARDOT_SF_CONSUMER_KEY=\"3MVG9IHf89I1t8hpom1l0QzbTANHH.MOASIZ3yPPhu6hFI_uipXiYi7ku85yMWg_2gXxu5bzAyWCevOHp4jrf\"\n",
    "PARDOT_SF_CONSUMER_SECRET=\"BC6C2AA5D41DC0EBBBB3376CD329E92E66BD8D85DF85F9FAB9F22E86D857A29E\"\n",
    "PARDOT_SF_REFRESH_TOKEN=\"5Aep8618yVsldz6rZPMv4ouelrGoRNAfdaLSjo3.ILw4jdNGemJVI_MNYFoNkN9g39GUXqUEgzw3ylEVMjxAU3X\"\n",
    "PARDOT_BUSINESS_UNIT_ID=\"0Uv4P000000TNB0SAO\"\n",
    "PARDOT_API_VERSION=4\n",
    "PARDOT_MAX_RESULT_COUNT = 200\n",
    "SNOWFLAKE_ACCOUNT_IDENTIFIER=\"UK29315.us-east-1\"\n",
    "SNOWFLAKE_USER=\"PardotEtlUser@discoveryed.com\"\n",
    "SNOWFLAKE_PASS=\"p@rd0tEtlUser\""
   ]
  },
  {
   "cell_type": "code",
   "execution_count": 67,
   "metadata": {},
   "outputs": [],
   "source": [
    "SET_DATA_TYPE_CREATED = {\n",
    "    # This set is for the data types that do not have a \"updated_after\" filter,\n",
    "    # and must be queried usng the \"created_after\" filter\n",
    "    \"EmailClick\",\n",
    "    \"TagObject\",\n",
    "}\n"
   ]
  },
  {
   "cell_type": "code",
   "execution_count": 68,
   "metadata": {},
   "outputs": [],
   "source": [
    "def get_client_pardot() -> PardotAPI:\n",
    "    try:\n",
    "        p = PardotAPI(\n",
    "            email=PARDOT_EMAIL,\n",
    "            user_key=PARDOT_USER_KEY,\n",
    "            sf_consumer_key=PARDOT_SF_CONSUMER_KEY,\n",
    "            sf_consumer_secret=PARDOT_SF_CONSUMER_SECRET,\n",
    "            sf_refresh_token=PARDOT_SF_REFRESH_TOKEN,\n",
    "            business_unit_id=PARDOT_BUSINESS_UNIT_ID,\n",
    "            version=PARDOT_API_VERSION,\n",
    "        )\n",
    "\n",
    "        if not p.authenticate():\n",
    "            p.campaigns.query(limit=1)\n",
    "            # ^ Must call query to authenticate if authenticatation is unsuccessful\n",
    "\n",
    "    except PardotAPIError as err:\n",
    "        if err.message in [\n",
    "            \"Error #184: access_token is invalid, unknown, or malformed\",\n",
    "            \"Error #122: Daily API rate limit met\",\n",
    "        ]:\n",
    "            get_session_boto().client(\"sns\").publish(\n",
    "                TargetArn=\"arn:aws:sns:us-east-1:768217030320:test-topic-email-notification\",\n",
    "                Message=f\"PARDOT ERROR: {err.message}\",\n",
    "                # Message=json.dumps({\"default\": json.dumps(message)}),\n",
    "                MessageStructure=\"string\",\n",
    "            )\n",
    "        raise\n",
    "\n",
    "    assert (\n",
    "        p.sftoken != \"dummy\"\n",
    "    ), \"Pardot authentication still unsuccessful after querying\"\n",
    "\n",
    "    return p\n"
   ]
  },
  {
   "cell_type": "code",
   "execution_count": 69,
   "metadata": {},
   "outputs": [],
   "source": [
    "p = get_client_pardot()"
   ]
  },
  {
   "cell_type": "code",
   "execution_count": 11,
   "metadata": {},
   "outputs": [],
   "source": [
    "date_start = dt.date.today() - dt.timedelta(days=100)"
   ]
  },
  {
   "cell_type": "code",
   "execution_count": 220,
   "metadata": {},
   "outputs": [],
   "source": [
    "data_type = 'VisitorActivity'\n",
    "key_mapping = {\n",
    "    \"VisitorActivity\":\"visitor_activity\",\n",
    "    \"ListMembership\":\"list_membership\",\n",
    "    \"Prospect\":\"prospect\",\n",
    "    \"ProspectAccount\":\"prospectAccount\",\n",
    "    \"Visitor\":\"visitor\",\n",
    "}\n",
    "DICT_CONVERSION_PURAL = {\n",
    "    \"Account\": \"accounts\",\n",
    "    \"EmailClick\": \"emailclicks\",\n",
    "    \"Email\": \"emails\",\n",
    "    \"VisitorActivity\": \"visitoractivities\",\n",
    "    \"Campaign\": \"campaigns\",\n",
    "    \"List\": \"lists\",\n",
    "    \"Prospect\": \"prospects\",\n",
    "    \"TagObject\": \"tagobjects\",\n",
    "    \"Tag\": \"tags\",\n",
    "    \"Opportunity\": \"opportunities\",\n",
    "    \"ProspectAccounts\": \"prospectaccounts\",\n",
    "    \"Form\": \"forms\",\n",
    "    \"ListMembership\": \"listmemberships\",\n",
    "    \"Visitor\": \"visitors\",\n",
    "    \"ProspectAccount\": \"prospectaccounts\",\n",
    "}\n",
    "data_client = getattr(p, DICT_CONVERSION_PURAL[data_type])"
   ]
  },
  {
   "cell_type": "code",
   "execution_count": 157,
   "metadata": {},
   "outputs": [
    {
     "data": {
      "text/plain": "<pypardot.objects.campaigns.Campaigns at 0x7f98cac2c250>"
     },
     "execution_count": 157,
     "metadata": {},
     "output_type": "execute_result"
    }
   ],
   "source": [
    "hasattr(data_client, \"query\")\n",
    "data_client"
   ]
  },
  {
   "cell_type": "code",
   "execution_count": 9,
   "metadata": {},
   "outputs": [],
   "source": [
    "def helper_to_camelCase(s: str) -> str:\n",
    "    \"Return the same string with the first letter lowercase\"\n",
    "    return str(s[0].lower() + s[1:])\n"
   ]
  },
  {
   "cell_type": "code",
   "execution_count": 237,
   "metadata": {},
   "outputs": [
    {
     "name": "stdout",
     "output_type": "stream",
     "text": [
      "2021-01-01T00:00:00 2022-02-01T23:59:59\n"
     ]
    }
   ],
   "source": [
    "\"visitor_activity\"\n",
    "\n",
    "\n",
    "# # import datetime as dt\n",
    "#dt.datetime.strptime(str(\"2021-12-31\"), \"%Y-%m-%d\").date().isoformat()\n",
    "# # # First pull the very first record\n",
    "# dt.datetime.strptime(str(\"2020-01-01 23:59:59\"), \"%Y-%m-%d %H:%M:%S\").isoformat()\n",
    "# export_range = [[\"2021-01-01\",dt.datetime.now().date()]]\n",
    "\n",
    "# for date_range in export_range:\n",
    "#     updated_after= dt.datetime.strptime(str(date_range[0]) + \" 00:00:00\", \"%Y-%m-%d %H:%M:%S\").isoformat()\n",
    "#     updated_before= dt.datetime.strptime(str(date_range[1]) + \" 23:59:59\", \"%Y-%m-%d %H:%M:%S\").isoformat()\n",
    "#     print(updated_after,updated_before)\n",
    "\n",
    "data_raw = data_client.query(limit=200,updated_after=\"2021-01-01T00:00:00\",\n",
    "updated_before=\"2021-12-31T00:00:00\")\n",
    "# data_raw\n",
    "# list_records = data_raw[helper_to_camelCase(data_type)]\n",
    "# # list_records\n",
    "# # early_date_str = early_record[\"visitor_activity\"][\"created_at\"]\n",
    "# # # early_date\n",
    "# early_date_date = dt.datetime.strptime(early_date, \"%Y-%m-%d %H:%M:%S\").date()\n",
    "# # Create list with every range of year's dates\n",
    "# yr_range = [early_date_date.year,dt.datetime.now().year]\n",
    "# export_range = [[f'01-01-{year}',f'12-31-{year}'] for year in range(yr_range[0],yr_range[1]+1)]\n",
    "\n",
    "\n",
    "# now = dt.datetime.now().date()\n",
    "# d = dt.timedelta(days = 365)\n",
    "\n",
    "# if now - d > early_date_date:\n",
    "#     print(\"Greater than one year\")\n",
    "#     print(now - d)\n",
    "#     print(early_date_date)\n",
    "\n",
    "# date_start,dt.datetime.now().date()\n",
    "# data_raw = data_client.query(\n",
    "#                 format=\"json\",\n",
    "#                 sort_by=\"created_at\",\n",
    "#                 sort_order=\"ascending\",\n",
    "                # limit=1)\n",
    "#                 id_greater_than=0,\n",
    "#                 updated_after=date_start.isoformat(),\n",
    "#                 **(\n",
    "#                     dict(created_after=date_start.isoformat())\n",
    "#                     if data_type in SET_DATA_TYPE_CREATED\n",
    "#                     else {}\n",
    "#                 ),\n",
    "#                  **(\n",
    "#                     dict(type=\"Email\")\n",
    "#                     if data_type == \"TagObject\"\n",
    "#                     else {}\n",
    "#                 ),\n",
    "                \n",
    "#             )\n",
    "\n",
    "# data_raw\n",
    "# data_raw\n"
   ]
  },
  {
   "cell_type": "code",
   "execution_count": 167,
   "metadata": {},
   "outputs": [],
   "source": [
    "def get_client_snowflake():\n",
    "    return snowflake.connector.connect(\n",
    "        user=SNOWFLAKE_USER,\n",
    "        password=SNOWFLAKE_PASS,\n",
    "        account=SNOWFLAKE_ACCOUNT_IDENTIFIER,\n",
    "        # authenticator=\"externalbrowser\",\n",
    "        warehouse=\"GENERAL_COMPUTE_WH\",\n",
    "        database=\"PROD_DATA_VAULT\",\n",
    "        schema=\"STAGE\",\n",
    "    )"
   ]
  },
  {
   "cell_type": "code",
   "execution_count": 280,
   "metadata": {},
   "outputs": [
    {
     "data": {
      "text/html": "<div>\n<style scoped>\n    .dataframe tbody tr th:only-of-type {\n        vertical-align: middle;\n    }\n\n    .dataframe tbody tr th {\n        vertical-align: top;\n    }\n\n    .dataframe thead th {\n        text-align: right;\n    }\n</style>\n<table border=\"1\" class=\"dataframe\">\n  <thead>\n    <tr style=\"text-align: right;\">\n      <th></th>\n      <th>OPPORTUNITY_ID</th>\n      <th>OPPORTUNITY_NAME</th>\n      <th>VALUE</th>\n      <th>PROBABILITY</th>\n      <th>TYPE</th>\n      <th>STAGE</th>\n      <th>STATUS</th>\n      <th>CLOSED_AT</th>\n      <th>CREATED_AT</th>\n      <th>UPDATED_AT</th>\n      <th>CAMPAIGN</th>\n      <th>PROSPECTS</th>\n      <th>VAULTADDED</th>\n      <th>STAGEFILENAME</th>\n    </tr>\n  </thead>\n  <tbody>\n    <tr>\n      <th>0</th>\n      <td>1949538</td>\n      <td>OPTY425590</td>\n      <td>4000.0</td>\n      <td>10</td>\n      <td>Renewal</td>\n      <td>Qualified</td>\n      <td>Open</td>\n      <td>NaT</td>\n      <td>2021-10-09 01:00:33-07:00</td>\n      <td>2022-01-28 09:53:36-08:00</td>\n      <td>{'id': 12971, 'name': 'K12'}</td>\n      <td>{'prospect': [{'id': 40247804, 'first_name': '...</td>\n      <td>2022-02-01 14:49:34.443000-08:00</td>\n      <td>Opportunity/Opportunity_api_20220201-123456.csv</td>\n    </tr>\n    <tr>\n      <th>1</th>\n      <td>1949882</td>\n      <td>OPTY419589</td>\n      <td>4000.0</td>\n      <td>0</td>\n      <td>New</td>\n      <td>Closed Lost</td>\n      <td>Lost</td>\n      <td>2021-10-31 00:00:00-07:00</td>\n      <td>2021-07-13 12:05:16-07:00</td>\n      <td>2022-01-28 17:21:15-08:00</td>\n      <td>{'id': 11286, 'name': 'Website Tracking'}</td>\n      <td>{'prospect': {'id': 50339838, 'first_name': 'H...</td>\n      <td>2022-02-01 14:49:34.443000-08:00</td>\n      <td>Opportunity/Opportunity_api_20220201-123456.csv</td>\n    </tr>\n    <tr>\n      <th>2</th>\n      <td>1949884</td>\n      <td>OPTY423736</td>\n      <td>5249.0</td>\n      <td>100</td>\n      <td>New</td>\n      <td>Closed Won</td>\n      <td>Won</td>\n      <td>2021-09-27 00:00:00-07:00</td>\n      <td>2021-09-24 12:51:08-07:00</td>\n      <td>2022-01-28 17:21:15-08:00</td>\n      <td>{'id': 11286, 'name': 'Website Tracking'}</td>\n      <td>{'prospect': [{'id': 50339838, 'first_name': '...</td>\n      <td>2022-02-01 14:49:34.443000-08:00</td>\n      <td>Opportunity/Opportunity_api_20220201-123456.csv</td>\n    </tr>\n    <tr>\n      <th>3</th>\n      <td>1950584</td>\n      <td>OPTY419735</td>\n      <td>4448.0</td>\n      <td>100</td>\n      <td>New</td>\n      <td>Closed Won</td>\n      <td>Won</td>\n      <td>2021-09-02 00:00:00-07:00</td>\n      <td>2021-07-16 16:18:34-07:00</td>\n      <td>2022-01-27 16:35:09-08:00</td>\n      <td>{'id': 11286, 'name': 'Website Tracking'}</td>\n      <td>{'prospect': {'id': 50352018, 'first_name': 'K...</td>\n      <td>2022-02-01 14:49:34.443000-08:00</td>\n      <td>Opportunity/Opportunity_api_20220201-123456.csv</td>\n    </tr>\n    <tr>\n      <th>4</th>\n      <td>1951506</td>\n      <td>OPTY425615</td>\n      <td>2009.0</td>\n      <td>100</td>\n      <td>New</td>\n      <td>Closed Won</td>\n      <td>Won</td>\n      <td>2021-10-13 00:00:00-07:00</td>\n      <td>2021-10-11 08:13:58-07:00</td>\n      <td>2022-01-29 10:26:29-08:00</td>\n      <td>{'id': 20932, 'name': 'Marketing Cloud Migrati...</td>\n      <td>{'prospect': {'id': 21322488, 'first_name': 'J...</td>\n      <td>2022-02-01 14:49:34.443000-08:00</td>\n      <td>Opportunity/Opportunity_api_20220201-123456.csv</td>\n    </tr>\n    <tr>\n      <th>5</th>\n      <td>1951776</td>\n      <td>OPTY425620</td>\n      <td>11000.0</td>\n      <td>10</td>\n      <td>New</td>\n      <td>Qualified</td>\n      <td>Open</td>\n      <td>NaT</td>\n      <td>2021-10-11 10:13:57-07:00</td>\n      <td>2022-01-26 18:52:45-08:00</td>\n      <td>{'id': 12967, 'name': 'Experiential'}</td>\n      <td>{'prospect': {'id': 18471623, 'first_name': 'T...</td>\n      <td>2022-02-01 14:49:34.443000-08:00</td>\n      <td>Opportunity/Opportunity_api_20220201-123456.csv</td>\n    </tr>\n    <tr>\n      <th>6</th>\n      <td>1952122</td>\n      <td>OPTY425627</td>\n      <td>0.0</td>\n      <td>0</td>\n      <td>Cross-Sell</td>\n      <td>Closed Lost</td>\n      <td>Lost</td>\n      <td>2021-12-31 00:00:00-08:00</td>\n      <td>2021-10-11 14:09:49-07:00</td>\n      <td>2022-01-28 07:32:22-08:00</td>\n      <td>{'id': 12971, 'name': 'K12'}</td>\n      <td>{'prospect': {'id': 33309495, 'first_name': 'M...</td>\n      <td>2022-02-01 14:49:34.443000-08:00</td>\n      <td>Opportunity/Opportunity_api_20220201-123456.csv</td>\n    </tr>\n    <tr>\n      <th>7</th>\n      <td>1952262</td>\n      <td>OPTY425633</td>\n      <td>0.0</td>\n      <td>25</td>\n      <td>New</td>\n      <td>Value Prop/Proposal</td>\n      <td>Open</td>\n      <td>NaT</td>\n      <td>2021-10-11 15:29:31-07:00</td>\n      <td>2022-01-27 07:07:06-08:00</td>\n      <td>{'id': 27647, 'name': 'mystery_science'}</td>\n      <td>{'prospect': {'id': 38061127, 'first_name': 'L...</td>\n      <td>2022-02-01 14:49:34.443000-08:00</td>\n      <td>Opportunity/Opportunity_api_20220201-123456.csv</td>\n    </tr>\n    <tr>\n      <th>8</th>\n      <td>1954013</td>\n      <td>OPTY425668</td>\n      <td>24453.0</td>\n      <td>10</td>\n      <td>New</td>\n      <td>Qualified</td>\n      <td>Open</td>\n      <td>NaT</td>\n      <td>2021-10-12 13:02:06-07:00</td>\n      <td>2022-01-27 15:56:19-08:00</td>\n      <td>{'id': 12971, 'name': 'K12'}</td>\n      <td>{'prospect': {'id': 49999410, 'first_name': 'J...</td>\n      <td>2022-02-01 14:49:34.443000-08:00</td>\n      <td>Opportunity/Opportunity_api_20220201-123456.csv</td>\n    </tr>\n    <tr>\n      <th>9</th>\n      <td>1954429</td>\n      <td>SCC: Janus Henderson</td>\n      <td>1822000.0</td>\n      <td>50</td>\n      <td>New</td>\n      <td>Highly Qualified</td>\n      <td>Open</td>\n      <td>NaT</td>\n      <td>2021-10-12 16:27:09-07:00</td>\n      <td>2022-01-31 15:36:43-08:00</td>\n      <td>{'id': 19077, 'name': 'Salesforce Generated'}</td>\n      <td>{'prospect': {'id': 28663499, 'first_name': 'D...</td>\n      <td>2022-02-01 14:49:34.443000-08:00</td>\n      <td>Opportunity/Opportunity_api_20220201-123456.csv</td>\n    </tr>\n  </tbody>\n</table>\n</div>",
      "text/plain": "   OPPORTUNITY_ID      OPPORTUNITY_NAME      VALUE  PROBABILITY        TYPE  \\\n0         1949538            OPTY425590     4000.0           10     Renewal   \n1         1949882            OPTY419589     4000.0            0         New   \n2         1949884            OPTY423736     5249.0          100         New   \n3         1950584            OPTY419735     4448.0          100         New   \n4         1951506            OPTY425615     2009.0          100         New   \n5         1951776            OPTY425620    11000.0           10         New   \n6         1952122            OPTY425627        0.0            0  Cross-Sell   \n7         1952262            OPTY425633        0.0           25         New   \n8         1954013            OPTY425668    24453.0           10         New   \n9         1954429  SCC: Janus Henderson  1822000.0           50         New   \n\n                 STAGE STATUS                 CLOSED_AT  \\\n0            Qualified   Open                       NaT   \n1          Closed Lost   Lost 2021-10-31 00:00:00-07:00   \n2           Closed Won    Won 2021-09-27 00:00:00-07:00   \n3           Closed Won    Won 2021-09-02 00:00:00-07:00   \n4           Closed Won    Won 2021-10-13 00:00:00-07:00   \n5            Qualified   Open                       NaT   \n6          Closed Lost   Lost 2021-12-31 00:00:00-08:00   \n7  Value Prop/Proposal   Open                       NaT   \n8            Qualified   Open                       NaT   \n9     Highly Qualified   Open                       NaT   \n\n                 CREATED_AT                UPDATED_AT  \\\n0 2021-10-09 01:00:33-07:00 2022-01-28 09:53:36-08:00   \n1 2021-07-13 12:05:16-07:00 2022-01-28 17:21:15-08:00   \n2 2021-09-24 12:51:08-07:00 2022-01-28 17:21:15-08:00   \n3 2021-07-16 16:18:34-07:00 2022-01-27 16:35:09-08:00   \n4 2021-10-11 08:13:58-07:00 2022-01-29 10:26:29-08:00   \n5 2021-10-11 10:13:57-07:00 2022-01-26 18:52:45-08:00   \n6 2021-10-11 14:09:49-07:00 2022-01-28 07:32:22-08:00   \n7 2021-10-11 15:29:31-07:00 2022-01-27 07:07:06-08:00   \n8 2021-10-12 13:02:06-07:00 2022-01-27 15:56:19-08:00   \n9 2021-10-12 16:27:09-07:00 2022-01-31 15:36:43-08:00   \n\n                                            CAMPAIGN  \\\n0                       {'id': 12971, 'name': 'K12'}   \n1          {'id': 11286, 'name': 'Website Tracking'}   \n2          {'id': 11286, 'name': 'Website Tracking'}   \n3          {'id': 11286, 'name': 'Website Tracking'}   \n4  {'id': 20932, 'name': 'Marketing Cloud Migrati...   \n5              {'id': 12967, 'name': 'Experiential'}   \n6                       {'id': 12971, 'name': 'K12'}   \n7           {'id': 27647, 'name': 'mystery_science'}   \n8                       {'id': 12971, 'name': 'K12'}   \n9      {'id': 19077, 'name': 'Salesforce Generated'}   \n\n                                           PROSPECTS  \\\n0  {'prospect': [{'id': 40247804, 'first_name': '...   \n1  {'prospect': {'id': 50339838, 'first_name': 'H...   \n2  {'prospect': [{'id': 50339838, 'first_name': '...   \n3  {'prospect': {'id': 50352018, 'first_name': 'K...   \n4  {'prospect': {'id': 21322488, 'first_name': 'J...   \n5  {'prospect': {'id': 18471623, 'first_name': 'T...   \n6  {'prospect': {'id': 33309495, 'first_name': 'M...   \n7  {'prospect': {'id': 38061127, 'first_name': 'L...   \n8  {'prospect': {'id': 49999410, 'first_name': 'J...   \n9  {'prospect': {'id': 28663499, 'first_name': 'D...   \n\n                        VAULTADDED  \\\n0 2022-02-01 14:49:34.443000-08:00   \n1 2022-02-01 14:49:34.443000-08:00   \n2 2022-02-01 14:49:34.443000-08:00   \n3 2022-02-01 14:49:34.443000-08:00   \n4 2022-02-01 14:49:34.443000-08:00   \n5 2022-02-01 14:49:34.443000-08:00   \n6 2022-02-01 14:49:34.443000-08:00   \n7 2022-02-01 14:49:34.443000-08:00   \n8 2022-02-01 14:49:34.443000-08:00   \n9 2022-02-01 14:49:34.443000-08:00   \n\n                                     STAGEFILENAME  \n0  Opportunity/Opportunity_api_20220201-123456.csv  \n1  Opportunity/Opportunity_api_20220201-123456.csv  \n2  Opportunity/Opportunity_api_20220201-123456.csv  \n3  Opportunity/Opportunity_api_20220201-123456.csv  \n4  Opportunity/Opportunity_api_20220201-123456.csv  \n5  Opportunity/Opportunity_api_20220201-123456.csv  \n6  Opportunity/Opportunity_api_20220201-123456.csv  \n7  Opportunity/Opportunity_api_20220201-123456.csv  \n8  Opportunity/Opportunity_api_20220201-123456.csv  \n9  Opportunity/Opportunity_api_20220201-123456.csv  "
     },
     "execution_count": 280,
     "metadata": {},
     "output_type": "execute_result"
    }
   ],
   "source": [
    "ctx = get_client_snowflake()\n",
    "cs = ctx.cursor()\n",
    "name_table_snowflake = \"PARDOT_OPPORTUNITY\"\n",
    "SF_SCHEMA = \"PROD_DATA_VAULT\"\n",
    "\n",
    "\n",
    "\n",
    "try:\n",
    "    cs.execute(f\"select * from prod_data_vault.stage.PARDOT_OPPORTUNITY limit 10\")\n",
    "    data =  cs.fetchall()  \n",
    "    columns = [f'{col[0]}' for col in cs.description]\n",
    "finally:\n",
    "    cs.close()\n",
    "ctx.close()\n",
    "\n",
    "pd.DataFrame(data,columns=columns)\n",
    "# (1137682, 1137684)"
   ]
  },
  {
   "cell_type": "code",
   "execution_count": 19,
   "metadata": {},
   "outputs": [
    {
     "data": {
      "text/plain": "[{'id': 106036033,\n  'tag_id': 33943,\n  'type': 'Email',\n  'object_id': 440415261,\n  'created_at': '2021-10-23 13:32:40'},\n {'id': 106036035,\n  'tag_id': 867471,\n  'type': 'Email',\n  'object_id': 440415261,\n  'created_at': '2021-10-23 13:32:40'},\n {'id': 106036037,\n  'tag_id': 1075496,\n  'type': 'Email',\n  'object_id': 440415261,\n  'created_at': '2021-10-23 13:32:40'},\n {'id': 106036039,\n  'tag_id': 33943,\n  'type': 'Email',\n  'object_id': 440415265,\n  'created_at': '2021-10-23 11:59:57'},\n {'id': 106036041,\n  'tag_id': 1075496,\n  'type': 'Email',\n  'object_id': 440415265,\n  'created_at': '2021-10-23 11:59:58'},\n {'id': 106036043,\n  'tag_id': 33943,\n  'type': 'Email',\n  'object_id': 440415267,\n  'created_at': '2021-10-23 13:32:40'},\n {'id': 106036045,\n  'tag_id': 867471,\n  'type': 'Email',\n  'object_id': 440415267,\n  'created_at': '2021-10-23 13:32:40'},\n {'id': 106036047,\n  'tag_id': 1075496,\n  'type': 'Email',\n  'object_id': 440415267,\n  'created_at': '2021-10-23 13:32:40'},\n {'id': 106036051,\n  'tag_id': 33943,\n  'type': 'Email',\n  'object_id': 440415277,\n  'created_at': '2021-10-23 13:24:07'},\n {'id': 106036053,\n  'tag_id': 867471,\n  'type': 'Email',\n  'object_id': 440415277,\n  'created_at': '2021-10-23 13:24:07'},\n {'id': 106036055,\n  'tag_id': 1075496,\n  'type': 'Email',\n  'object_id': 440415277,\n  'created_at': '2021-10-23 13:24:07'},\n {'id': 106036057,\n  'tag_id': 33943,\n  'type': 'Email',\n  'object_id': 440415279,\n  'created_at': '2021-10-23 13:30:26'},\n {'id': 106036059,\n  'tag_id': 1075496,\n  'type': 'Email',\n  'object_id': 440415279,\n  'created_at': '2021-10-23 13:30:26'},\n {'id': 106036071,\n  'tag_id': 33943,\n  'type': 'Email',\n  'object_id': 440415285,\n  'created_at': '2021-10-23 11:59:34'},\n {'id': 106036073,\n  'tag_id': 1075496,\n  'type': 'Email',\n  'object_id': 440415285,\n  'created_at': '2021-10-23 11:59:34'},\n {'id': 106036077,\n  'tag_id': 33943,\n  'type': 'Email',\n  'object_id': 440415297,\n  'created_at': '2021-10-23 13:20:51'},\n {'id': 106036079,\n  'tag_id': 1075496,\n  'type': 'Email',\n  'object_id': 440415297,\n  'created_at': '2021-10-23 13:20:51'},\n {'id': 106036081,\n  'tag_id': 33943,\n  'type': 'Email',\n  'object_id': 440415299,\n  'created_at': '2021-10-23 13:22:28'},\n {'id': 106036083,\n  'tag_id': 1075496,\n  'type': 'Email',\n  'object_id': 440415299,\n  'created_at': '2021-10-23 13:22:28'},\n {'id': 106036091,\n  'tag_id': 33943,\n  'type': 'Email',\n  'object_id': 440415301,\n  'created_at': '2021-10-23 13:32:40'},\n {'id': 106036093,\n  'tag_id': 867471,\n  'type': 'Email',\n  'object_id': 440415301,\n  'created_at': '2021-10-23 13:32:40'},\n {'id': 106036095,\n  'tag_id': 1075496,\n  'type': 'Email',\n  'object_id': 440415301,\n  'created_at': '2021-10-23 13:32:40'},\n {'id': 106036097,\n  'tag_id': 33943,\n  'type': 'Email',\n  'object_id': 440415303,\n  'created_at': '2021-10-23 13:30:26'},\n {'id': 106036099,\n  'tag_id': 1075496,\n  'type': 'Email',\n  'object_id': 440415303,\n  'created_at': '2021-10-23 13:30:26'},\n {'id': 106036101,\n  'tag_id': 33943,\n  'type': 'Email',\n  'object_id': 440415305,\n  'created_at': '2021-10-23 11:59:57'},\n {'id': 106036103,\n  'tag_id': 1075496,\n  'type': 'Email',\n  'object_id': 440415305,\n  'created_at': '2021-10-23 11:59:58'},\n {'id': 106036105,\n  'tag_id': 33943,\n  'type': 'Email',\n  'object_id': 440415307,\n  'created_at': '2021-10-23 13:24:07'},\n {'id': 106036107,\n  'tag_id': 867471,\n  'type': 'Email',\n  'object_id': 440415307,\n  'created_at': '2021-10-23 13:24:07'},\n {'id': 106036109,\n  'tag_id': 1075496,\n  'type': 'Email',\n  'object_id': 440415307,\n  'created_at': '2021-10-23 13:24:07'},\n {'id': 106067621,\n  'tag_id': 33943,\n  'type': 'Email',\n  'object_id': 440419629,\n  'created_at': '2021-10-24 08:58:36'},\n {'id': 106067623,\n  'tag_id': 867471,\n  'type': 'Email',\n  'object_id': 440419629,\n  'created_at': '2021-10-24 08:58:36'},\n {'id': 106067625,\n  'tag_id': 1075496,\n  'type': 'Email',\n  'object_id': 440419629,\n  'created_at': '2021-10-24 08:58:36'},\n {'id': 106067629,\n  'tag_id': 33943,\n  'type': 'Email',\n  'object_id': 440419639,\n  'created_at': '2021-10-23 13:30:26'},\n {'id': 106067631,\n  'tag_id': 867471,\n  'type': 'Email',\n  'object_id': 440419639,\n  'created_at': '2021-10-24 09:00:04'},\n {'id': 106067633,\n  'tag_id': 1075496,\n  'type': 'Email',\n  'object_id': 440419639,\n  'created_at': '2021-10-23 13:30:26'},\n {'id': 106067639,\n  'tag_id': 33943,\n  'type': 'Email',\n  'object_id': 440419647,\n  'created_at': '2021-10-24 09:01:06'},\n {'id': 106067641,\n  'tag_id': 1075496,\n  'type': 'Email',\n  'object_id': 440419647,\n  'created_at': '2021-10-24 09:01:06'},\n {'id': 106067643,\n  'tag_id': 33943,\n  'type': 'Email',\n  'object_id': 440420131,\n  'created_at': '2021-10-23 13:22:28'},\n {'id': 106067645,\n  'tag_id': 1075496,\n  'type': 'Email',\n  'object_id': 440420131,\n  'created_at': '2021-10-23 13:22:28'},\n {'id': 106088063,\n  'tag_id': 33943,\n  'type': 'Email',\n  'object_id': 442965321,\n  'created_at': '2021-10-25 10:13:06'},\n {'id': 106088065,\n  'tag_id': 33945,\n  'type': 'Email',\n  'object_id': 442965321,\n  'created_at': '2021-10-25 10:13:06'},\n {'id': 106088067,\n  'tag_id': 1081430,\n  'type': 'Email',\n  'object_id': 442965321,\n  'created_at': '2021-10-25 10:13:06'},\n {'id': 106115075,\n  'tag_id': 144700,\n  'type': 'Email',\n  'object_id': 442995707,\n  'created_at': '2021-10-25 17:49:14'},\n {'id': 106129327,\n  'tag_id': 33945,\n  'type': 'Email',\n  'object_id': 443457739,\n  'created_at': '2021-10-25 08:50:45'},\n {'id': 106129329,\n  'tag_id': 1015396,\n  'type': 'Email',\n  'object_id': 443457739,\n  'created_at': '2021-10-25 08:50:45'},\n {'id': 106129331,\n  'tag_id': 1015400,\n  'type': 'Email',\n  'object_id': 443457739,\n  'created_at': '2021-10-25 08:50:45'},\n {'id': 106136707,\n  'tag_id': 33945,\n  'type': 'Email',\n  'object_id': 443572479,\n  'created_at': '2021-10-26 07:19:15'},\n {'id': 106136709,\n  'tag_id': 907539,\n  'type': 'Email',\n  'object_id': 443572479,\n  'created_at': '2021-10-26 07:19:15'},\n {'id': 106136711,\n  'tag_id': 33945,\n  'type': 'Email',\n  'object_id': 443572481,\n  'created_at': '2021-10-26 07:19:15'},\n {'id': 106136713,\n  'tag_id': 907539,\n  'type': 'Email',\n  'object_id': 443572481,\n  'created_at': '2021-10-26 07:19:15'},\n {'id': 106137681,\n  'tag_id': 33943,\n  'type': 'Email',\n  'object_id': 443704963,\n  'created_at': '2021-10-26 11:10:45'},\n {'id': 106137683,\n  'tag_id': 984416,\n  'type': 'Email',\n  'object_id': 443704963,\n  'created_at': '2021-10-26 11:10:45'},\n {'id': 106254525,\n  'tag_id': 33945,\n  'type': 'Email',\n  'object_id': 443763199,\n  'created_at': '2021-10-26 07:19:15'},\n {'id': 106254527,\n  'tag_id': 907539,\n  'type': 'Email',\n  'object_id': 443763199,\n  'created_at': '2021-10-26 07:19:15'},\n {'id': 106516555,\n  'tag_id': 144700,\n  'type': 'Email',\n  'object_id': 445133251,\n  'created_at': '2021-10-27 07:29:59'},\n {'id': 107705345,\n  'tag_id': 33945,\n  'type': 'Email',\n  'object_id': 445187757,\n  'created_at': '2021-10-25 07:53:23'},\n {'id': 107705347,\n  'tag_id': 1089993,\n  'type': 'Email',\n  'object_id': 445187757,\n  'created_at': '2021-10-25 07:53:23'},\n {'id': 108300161,\n  'tag_id': 33945,\n  'type': 'Email',\n  'object_id': 447723141,\n  'created_at': '2021-10-26 14:42:03'},\n {'id': 108300163,\n  'tag_id': 1065283,\n  'type': 'Email',\n  'object_id': 447723141,\n  'created_at': '2021-10-26 14:42:03'},\n {'id': 108305137,\n  'tag_id': 33945,\n  'type': 'Email',\n  'object_id': 448110683,\n  'created_at': '2021-10-26 15:07:39'},\n {'id': 108305139,\n  'tag_id': 900919,\n  'type': 'Email',\n  'object_id': 448110683,\n  'created_at': '2021-10-26 15:07:39'},\n {'id': 108305141,\n  'tag_id': 1093659,\n  'type': 'Email',\n  'object_id': 448110683,\n  'created_at': '2021-10-26 15:07:39'},\n {'id': 108306853,\n  'tag_id': 33943,\n  'type': 'Email',\n  'object_id': 448116513,\n  'created_at': '2021-10-26 07:57:28'},\n {'id': 108306855,\n  'tag_id': 900919,\n  'type': 'Email',\n  'object_id': 448116513,\n  'created_at': '2021-10-26 07:57:28'},\n {'id': 108306865,\n  'tag_id': 33943,\n  'type': 'Email',\n  'object_id': 448116519,\n  'created_at': '2021-10-26 07:57:28'},\n {'id': 108306867,\n  'tag_id': 900919,\n  'type': 'Email',\n  'object_id': 448116519,\n  'created_at': '2021-10-26 07:57:28'},\n {'id': 108310127,\n  'tag_id': 144700,\n  'type': 'Email',\n  'object_id': 450697893,\n  'created_at': '2021-10-28 12:34:53'},\n {'id': 108310643,\n  'tag_id': 33943,\n  'type': 'Email',\n  'object_id': 450715921,\n  'created_at': '2021-10-27 13:25:30'},\n {'id': 108310645,\n  'tag_id': 33945,\n  'type': 'Email',\n  'object_id': 450715921,\n  'created_at': '2021-10-27 13:25:30'},\n {'id': 108310647,\n  'tag_id': 1081430,\n  'type': 'Email',\n  'object_id': 450715921,\n  'created_at': '2021-10-27 13:25:30'},\n {'id': 108321533,\n  'tag_id': 33945,\n  'type': 'Email',\n  'object_id': 450885185,\n  'created_at': '2021-10-27 13:18:33'},\n {'id': 108321535,\n  'tag_id': 1025790,\n  'type': 'Email',\n  'object_id': 450885185,\n  'created_at': '2021-10-27 13:18:33'},\n {'id': 108321807,\n  'tag_id': 33943,\n  'type': 'Email',\n  'object_id': 450887009,\n  'created_at': '2021-10-25 08:16:16'},\n {'id': 108321809,\n  'tag_id': 899479,\n  'type': 'Email',\n  'object_id': 450887009,\n  'created_at': '2021-10-25 08:16:16'},\n {'id': 108321811,\n  'tag_id': 982004,\n  'type': 'Email',\n  'object_id': 450887009,\n  'created_at': '2021-10-25 08:16:16'},\n {'id': 108321817,\n  'tag_id': 33943,\n  'type': 'Email',\n  'object_id': 450887023,\n  'created_at': '2021-10-25 08:16:16'},\n {'id': 108321819,\n  'tag_id': 899479,\n  'type': 'Email',\n  'object_id': 450887023,\n  'created_at': '2021-10-25 08:16:16'},\n {'id': 108321821,\n  'tag_id': 982004,\n  'type': 'Email',\n  'object_id': 450887023,\n  'created_at': '2021-10-25 08:16:16'},\n {'id': 108321839,\n  'tag_id': 33943,\n  'type': 'Email',\n  'object_id': 450914679,\n  'created_at': '2021-10-23 14:02:06'},\n {'id': 108321841,\n  'tag_id': 1077864,\n  'type': 'Email',\n  'object_id': 450914679,\n  'created_at': '2021-10-23 14:02:06'},\n {'id': 108321845,\n  'tag_id': 33943,\n  'type': 'Email',\n  'object_id': 450914693,\n  'created_at': '2021-10-28 10:06:27'},\n {'id': 108321847,\n  'tag_id': 1077864,\n  'type': 'Email',\n  'object_id': 450914693,\n  'created_at': '2021-10-28 10:06:27'},\n {'id': 108321849,\n  'tag_id': 33943,\n  'type': 'Email',\n  'object_id': 451780709,\n  'created_at': '2021-10-28 10:20:43'},\n {'id': 108321851,\n  'tag_id': 900919,\n  'type': 'Email',\n  'object_id': 451780709,\n  'created_at': '2021-10-28 10:20:43'},\n {'id': 108325811,\n  'tag_id': 33945,\n  'type': 'Email',\n  'object_id': 453601197,\n  'created_at': '2021-10-28 13:33:40'},\n {'id': 108325813,\n  'tag_id': 900919,\n  'type': 'Email',\n  'object_id': 453601197,\n  'created_at': '2021-10-28 13:33:40'},\n {'id': 108325815,\n  'tag_id': 1093659,\n  'type': 'Email',\n  'object_id': 453601197,\n  'created_at': '2021-10-28 13:33:40'},\n {'id': 108336303,\n  'tag_id': 144700,\n  'type': 'Email',\n  'object_id': 453825525,\n  'created_at': '2021-11-02 06:42:42'},\n {'id': 108336953,\n  'tag_id': 144700,\n  'type': 'Email',\n  'object_id': 453832765,\n  'created_at': '2021-11-02 06:42:42'},\n {'id': 108337033,\n  'tag_id': 144700,\n  'type': 'Email',\n  'object_id': 453859281,\n  'created_at': '2021-11-02 07:18:32'},\n {'id': 108337325,\n  'tag_id': 33943,\n  'type': 'Email',\n  'object_id': 453883091,\n  'created_at': '2021-10-28 10:33:19'},\n {'id': 108337327,\n  'tag_id': 900919,\n  'type': 'Email',\n  'object_id': 453883091,\n  'created_at': '2021-10-28 10:33:19'},\n {'id': 108337359,\n  'tag_id': 33945,\n  'type': 'Email',\n  'object_id': 453911157,\n  'created_at': '2021-10-28 14:05:16'},\n {'id': 108337361,\n  'tag_id': 1081488,\n  'type': 'Email',\n  'object_id': 453911157,\n  'created_at': '2021-10-28 14:05:16'},\n {'id': 108337363,\n  'tag_id': 1081490,\n  'type': 'Email',\n  'object_id': 453911157,\n  'created_at': '2021-10-28 14:05:16'},\n {'id': 108337393,\n  'tag_id': 33945,\n  'type': 'Email',\n  'object_id': 453911353,\n  'created_at': '2021-10-28 14:05:16'},\n {'id': 108337395,\n  'tag_id': 1081488,\n  'type': 'Email',\n  'object_id': 453911353,\n  'created_at': '2021-10-28 14:05:16'},\n {'id': 108337397,\n  'tag_id': 1081490,\n  'type': 'Email',\n  'object_id': 453911353,\n  'created_at': '2021-10-28 14:05:16'},\n {'id': 108338623,\n  'tag_id': 33943,\n  'type': 'Email',\n  'object_id': 453977547,\n  'created_at': '2021-11-02 13:40:59'},\n {'id': 108338625,\n  'tag_id': 33945,\n  'type': 'Email',\n  'object_id': 453977547,\n  'created_at': '2021-11-02 13:40:59'},\n {'id': 108338627,\n  'tag_id': 989652,\n  'type': 'Email',\n  'object_id': 453977547,\n  'created_at': '2021-11-02 13:40:59'},\n {'id': 108338647,\n  'tag_id': 33943,\n  'type': 'Email',\n  'object_id': 453977561,\n  'created_at': '2021-11-02 13:50:02'},\n {'id': 108338649,\n  'tag_id': 33945,\n  'type': 'Email',\n  'object_id': 453977561,\n  'created_at': '2021-11-02 13:50:02'},\n {'id': 108338651,\n  'tag_id': 989652,\n  'type': 'Email',\n  'object_id': 453977561,\n  'created_at': '2021-11-02 13:50:02'},\n {'id': 108508254,\n  'tag_id': 33943,\n  'type': 'Email',\n  'object_id': 454747512,\n  'created_at': '2021-11-02 10:00:47'},\n {'id': 108508256,\n  'tag_id': 900919,\n  'type': 'Email',\n  'object_id': 454747512,\n  'created_at': '2021-11-02 10:00:47'},\n {'id': 108508742,\n  'tag_id': 33943,\n  'type': 'Email',\n  'object_id': 454777552,\n  'created_at': '2021-10-26 07:32:06'},\n {'id': 108509600,\n  'tag_id': 33945,\n  'type': 'Email',\n  'object_id': 455601416,\n  'created_at': '2021-11-02 14:31:54'},\n {'id': 108509602,\n  'tag_id': 900919,\n  'type': 'Email',\n  'object_id': 455601416,\n  'created_at': '2021-11-02 14:31:54'},\n {'id': 108509604,\n  'tag_id': 1089993,\n  'type': 'Email',\n  'object_id': 455601416,\n  'created_at': '2021-11-02 14:31:54'},\n {'id': 108537528,\n  'tag_id': 33943,\n  'type': 'Email',\n  'object_id': 456046588,\n  'created_at': '2021-11-03 13:31:28'},\n {'id': 108537530,\n  'tag_id': 984416,\n  'type': 'Email',\n  'object_id': 456046588,\n  'created_at': '2021-11-03 13:31:28'},\n {'id': 108554708,\n  'tag_id': 33945,\n  'type': 'Email',\n  'object_id': 456626762,\n  'created_at': '2021-11-02 07:15:46'},\n {'id': 108554710,\n  'tag_id': 900919,\n  'type': 'Email',\n  'object_id': 456626762,\n  'created_at': '2021-11-02 07:15:46'},\n {'id': 108554712,\n  'tag_id': 1093659,\n  'type': 'Email',\n  'object_id': 456626762,\n  'created_at': '2021-11-02 07:15:46'},\n {'id': 108554718,\n  'tag_id': 33945,\n  'type': 'Email',\n  'object_id': 456626796,\n  'created_at': '2021-11-02 10:51:16'},\n {'id': 108554720,\n  'tag_id': 1047770,\n  'type': 'Email',\n  'object_id': 456626796,\n  'created_at': '2021-11-02 10:51:16'},\n {'id': 108554722,\n  'tag_id': 1047772,\n  'type': 'Email',\n  'object_id': 456626796,\n  'created_at': '2021-11-02 10:51:16'},\n {'id': 108554724,\n  'tag_id': 1067319,\n  'type': 'Email',\n  'object_id': 456626796,\n  'created_at': '2021-11-02 10:51:16'},\n {'id': 108564726,\n  'tag_id': 33945,\n  'type': 'Email',\n  'object_id': 456650756,\n  'created_at': '2021-11-02 10:25:13'},\n {'id': 108564728,\n  'tag_id': 1119719,\n  'type': 'Email',\n  'object_id': 456650756,\n  'created_at': '2021-11-02 10:25:14'},\n {'id': 108588850,\n  'tag_id': 33945,\n  'type': 'Email',\n  'object_id': 456666150,\n  'created_at': '2021-11-02 06:49:26'},\n {'id': 108588852,\n  'tag_id': 900919,\n  'type': 'Email',\n  'object_id': 456666150,\n  'created_at': '2021-11-02 06:49:26'},\n {'id': 108588854,\n  'tag_id': 1089993,\n  'type': 'Email',\n  'object_id': 456666150,\n  'created_at': '2021-11-02 06:49:26'},\n {'id': 108588944,\n  'tag_id': 33943,\n  'type': 'Email',\n  'object_id': 456667288,\n  'created_at': '2021-11-02 11:59:04'},\n {'id': 108588946,\n  'tag_id': 33945,\n  'type': 'Email',\n  'object_id': 456667288,\n  'created_at': '2021-11-02 11:59:04'},\n {'id': 108588948,\n  'tag_id': 989652,\n  'type': 'Email',\n  'object_id': 456667288,\n  'created_at': '2021-11-02 11:59:04'},\n {'id': 108589804,\n  'tag_id': 33943,\n  'type': 'Email',\n  'object_id': 457112206,\n  'created_at': '2021-11-02 11:59:04'},\n {'id': 108589806,\n  'tag_id': 33945,\n  'type': 'Email',\n  'object_id': 457112206,\n  'created_at': '2021-11-02 11:59:04'},\n {'id': 108589808,\n  'tag_id': 989652,\n  'type': 'Email',\n  'object_id': 457112206,\n  'created_at': '2021-11-02 11:59:04'},\n {'id': 108628064,\n  'tag_id': 33945,\n  'type': 'Email',\n  'object_id': 457444264,\n  'created_at': '2021-11-02 07:24:00'},\n {'id': 108628066,\n  'tag_id': 900919,\n  'type': 'Email',\n  'object_id': 457444264,\n  'created_at': '2021-11-02 07:24:00'},\n {'id': 108628068,\n  'tag_id': 1093659,\n  'type': 'Email',\n  'object_id': 457444264,\n  'created_at': '2021-11-02 07:24:00'},\n {'id': 108628548,\n  'tag_id': 144700,\n  'type': 'Email',\n  'object_id': 457482548,\n  'created_at': '2021-11-04 09:26:13'},\n {'id': 108628554,\n  'tag_id': 144700,\n  'type': 'Email',\n  'object_id': 457482650,\n  'created_at': '2021-11-04 09:38:46'},\n {'id': 108657434,\n  'tag_id': 33943,\n  'type': 'Email',\n  'object_id': 457488320,\n  'created_at': '2021-11-05 08:51:40'},\n {'id': 108657708,\n  'tag_id': 33943,\n  'type': 'Email',\n  'object_id': 457596308,\n  'created_at': '2021-10-29 08:29:54'},\n {'id': 108657710,\n  'tag_id': 1100415,\n  'type': 'Email',\n  'object_id': 457596308,\n  'created_at': '2021-10-29 08:29:54'},\n {'id': 108657712,\n  'tag_id': 33943,\n  'type': 'Email',\n  'object_id': 457596310,\n  'created_at': '2021-10-29 08:49:50'},\n {'id': 108657714,\n  'tag_id': 1100415,\n  'type': 'Email',\n  'object_id': 457596310,\n  'created_at': '2021-10-29 08:49:50'},\n {'id': 108658624,\n  'tag_id': 33943,\n  'type': 'Email',\n  'object_id': 457599914,\n  'created_at': '2021-10-29 10:10:31'},\n {'id': 108658626,\n  'tag_id': 1100415,\n  'type': 'Email',\n  'object_id': 457599914,\n  'created_at': '2021-10-29 10:10:31'},\n {'id': 108658714,\n  'tag_id': 33945,\n  'type': 'Email',\n  'object_id': 457600288,\n  'created_at': '2021-11-05 13:59:07'},\n {'id': 108662082,\n  'tag_id': 33943,\n  'type': 'Email',\n  'object_id': 457672770,\n  'created_at': '2021-11-05 13:54:23'},\n {'id': 108662084,\n  'tag_id': 1075496,\n  'type': 'Email',\n  'object_id': 457672770,\n  'created_at': '2021-11-05 13:54:23'},\n {'id': 108662086,\n  'tag_id': 33943,\n  'type': 'Email',\n  'object_id': 457672772,\n  'created_at': '2021-11-05 15:20:44'},\n {'id': 108662088,\n  'tag_id': 1075496,\n  'type': 'Email',\n  'object_id': 457672772,\n  'created_at': '2021-11-05 15:20:44'},\n {'id': 108662090,\n  'tag_id': 33943,\n  'type': 'Email',\n  'object_id': 457672774,\n  'created_at': '2021-11-05 15:23:42'},\n {'id': 108662092,\n  'tag_id': 1075496,\n  'type': 'Email',\n  'object_id': 457672774,\n  'created_at': '2021-11-05 15:23:42'},\n {'id': 108662094,\n  'tag_id': 33943,\n  'type': 'Email',\n  'object_id': 457672776,\n  'created_at': '2021-11-05 15:38:43'},\n {'id': 108662096,\n  'tag_id': 1075496,\n  'type': 'Email',\n  'object_id': 457672776,\n  'created_at': '2021-11-05 15:38:43'},\n {'id': 108662106,\n  'tag_id': 33943,\n  'type': 'Email',\n  'object_id': 457672804,\n  'created_at': '2021-11-05 15:19:14'},\n {'id': 108662108,\n  'tag_id': 1075496,\n  'type': 'Email',\n  'object_id': 457672804,\n  'created_at': '2021-11-05 15:19:14'},\n {'id': 108662110,\n  'tag_id': 33943,\n  'type': 'Email',\n  'object_id': 457672810,\n  'created_at': '2021-11-05 15:24:00'},\n {'id': 108662112,\n  'tag_id': 1075496,\n  'type': 'Email',\n  'object_id': 457672810,\n  'created_at': '2021-11-05 15:24:00'},\n {'id': 108662116,\n  'tag_id': 33943,\n  'type': 'Email',\n  'object_id': 457672812,\n  'created_at': '2021-11-07 10:21:56'},\n {'id': 108662118,\n  'tag_id': 1075496,\n  'type': 'Email',\n  'object_id': 457672812,\n  'created_at': '2021-11-07 10:21:56'},\n {'id': 108662120,\n  'tag_id': 33943,\n  'type': 'Email',\n  'object_id': 457672828,\n  'created_at': '2021-11-07 10:21:56'},\n {'id': 108662122,\n  'tag_id': 1075496,\n  'type': 'Email',\n  'object_id': 457672828,\n  'created_at': '2021-11-07 10:21:56'},\n {'id': 108662128,\n  'tag_id': 33943,\n  'type': 'Email',\n  'object_id': 457672836,\n  'created_at': '2021-11-05 09:22:49'},\n {'id': 108662130,\n  'tag_id': 1075496,\n  'type': 'Email',\n  'object_id': 457672836,\n  'created_at': '2021-11-05 09:22:49'},\n {'id': 109186960,\n  'tag_id': 33943,\n  'type': 'Email',\n  'object_id': 460581996,\n  'created_at': '2021-10-26 10:15:00'},\n {'id': 109186962,\n  'tag_id': 900919,\n  'type': 'Email',\n  'object_id': 460581996,\n  'created_at': '2021-10-26 10:15:00'},\n {'id': 109187212,\n  'tag_id': 33943,\n  'type': 'Email',\n  'object_id': 460582300,\n  'created_at': '2021-10-28 10:12:05'},\n {'id': 109187214,\n  'tag_id': 900919,\n  'type': 'Email',\n  'object_id': 460582300,\n  'created_at': '2021-10-28 10:12:05'},\n {'id': 109187378,\n  'tag_id': 33943,\n  'type': 'Email',\n  'object_id': 460583458,\n  'created_at': '2021-10-26 10:15:00'},\n {'id': 109187380,\n  'tag_id': 900919,\n  'type': 'Email',\n  'object_id': 460583458,\n  'created_at': '2021-10-26 10:15:00'},\n {'id': 109187384,\n  'tag_id': 33943,\n  'type': 'Email',\n  'object_id': 460583460,\n  'created_at': '2021-10-28 10:12:05'},\n {'id': 109187386,\n  'tag_id': 900919,\n  'type': 'Email',\n  'object_id': 460583460,\n  'created_at': '2021-10-28 10:12:05'},\n {'id': 109187390,\n  'tag_id': 33945,\n  'type': 'Email',\n  'object_id': 460583482,\n  'created_at': '2021-11-04 07:46:20'},\n {'id': 109187392,\n  'tag_id': 900919,\n  'type': 'Email',\n  'object_id': 460583482,\n  'created_at': '2021-11-04 07:46:20'},\n {'id': 109187394,\n  'tag_id': 1089993,\n  'type': 'Email',\n  'object_id': 460583482,\n  'created_at': '2021-11-04 07:46:20'},\n {'id': 109187430,\n  'tag_id': 33945,\n  'type': 'Email',\n  'object_id': 460583654,\n  'created_at': '2021-11-03 09:00:19'},\n {'id': 109187432,\n  'tag_id': 1054050,\n  'type': 'Email',\n  'object_id': 460583654,\n  'created_at': '2021-11-03 09:00:19'},\n {'id': 109187434,\n  'tag_id': 1054052,\n  'type': 'Email',\n  'object_id': 460583654,\n  'created_at': '2021-11-03 09:00:19'},\n {'id': 109187456,\n  'tag_id': 33945,\n  'type': 'Email',\n  'object_id': 460584468,\n  'created_at': '2021-11-04 08:19:08'},\n {'id': 109187458,\n  'tag_id': 900919,\n  'type': 'Email',\n  'object_id': 460584468,\n  'created_at': '2021-11-04 08:19:08'},\n {'id': 109187460,\n  'tag_id': 1089993,\n  'type': 'Email',\n  'object_id': 460584468,\n  'created_at': '2021-11-04 08:19:08'},\n {'id': 109281534,\n  'tag_id': 33943,\n  'type': 'Email',\n  'object_id': 460584914,\n  'created_at': '2021-11-08 10:11:59'},\n {'id': 109281542,\n  'tag_id': 33943,\n  'type': 'Email',\n  'object_id': 460584924,\n  'created_at': '2021-11-08 10:19:03'},\n {'id': 109335544,\n  'tag_id': 33943,\n  'type': 'Email',\n  'object_id': 460584928,\n  'created_at': '2021-11-08 10:11:59'},\n {'id': 109746338,\n  'tag_id': 33945,\n  'type': 'Email',\n  'object_id': 461304512,\n  'created_at': '2021-11-03 08:38:37'},\n {'id': 109746368,\n  'tag_id': 33945,\n  'type': 'Email',\n  'object_id': 461304666,\n  'created_at': '2021-11-09 10:25:34'},\n {'id': 109749040,\n  'tag_id': 33943,\n  'type': 'Email',\n  'object_id': 461675642,\n  'created_at': '2021-11-09 14:09:38'},\n {'id': 109749042,\n  'tag_id': 1081430,\n  'type': 'Email',\n  'object_id': 461675642,\n  'created_at': '2021-11-09 14:09:38'},\n {'id': 109759180,\n  'tag_id': 33943,\n  'type': 'Email',\n  'object_id': 462439864,\n  'created_at': '2021-11-10 09:37:41'},\n {'id': 109759198,\n  'tag_id': 33943,\n  'type': 'Email',\n  'object_id': 462439952,\n  'created_at': '2021-11-10 09:37:41'},\n {'id': 109759430,\n  'tag_id': 33943,\n  'type': 'Email',\n  'object_id': 462441248,\n  'created_at': '2021-11-10 09:37:41'},\n {'id': 109759434,\n  'tag_id': 33943,\n  'type': 'Email',\n  'object_id': 462441252,\n  'created_at': '2021-11-10 10:35:00'},\n {'id': 109861862,\n  'tag_id': 33945,\n  'type': 'Email',\n  'object_id': 463339180,\n  'created_at': '2021-11-11 07:34:41'},\n {'id': 109861864,\n  'tag_id': 1037384,\n  'type': 'Email',\n  'object_id': 463339180,\n  'created_at': '2021-11-11 07:34:41'},\n {'id': 109861866,\n  'tag_id': 1037392,\n  'type': 'Email',\n  'object_id': 463339180,\n  'created_at': '2021-11-11 07:34:41'},\n {'id': 109865556,\n  'tag_id': 33943,\n  'type': 'Email',\n  'object_id': 463528632,\n  'created_at': '2021-11-11 09:35:43'},\n {'id': 109865558,\n  'tag_id': 900919,\n  'type': 'Email',\n  'object_id': 463528632,\n  'created_at': '2021-11-11 09:35:43'},\n {'id': 109869228,\n  'tag_id': 33943,\n  'type': 'Email',\n  'object_id': 463705212,\n  'created_at': '2021-11-11 11:03:52'},\n {'id': 109869230,\n  'tag_id': 989652,\n  'type': 'Email',\n  'object_id': 463705212,\n  'created_at': '2021-11-11 11:03:52'},\n {'id': 109869306,\n  'tag_id': 33943,\n  'type': 'Email',\n  'object_id': 463802326,\n  'created_at': '2021-11-11 06:41:30'},\n {'id': 109869328,\n  'tag_id': 33945,\n  'type': 'Email',\n  'object_id': 463802356,\n  'created_at': '2021-11-11 12:19:07'},\n {'id': 109869330,\n  'tag_id': 1081488,\n  'type': 'Email',\n  'object_id': 463802356,\n  'created_at': '2021-11-11 12:19:07'},\n {'id': 109869332,\n  'tag_id': 1081490,\n  'type': 'Email',\n  'object_id': 463802356,\n  'created_at': '2021-11-11 12:19:07'}]"
     },
     "execution_count": 19,
     "metadata": {},
     "output_type": "execute_result"
    }
   ],
   "source": [
    "list_record = data_raw[\"tagObject\"]\n",
    "list_record"
   ]
  },
  {
   "cell_type": "code",
   "execution_count": 275,
   "metadata": {},
   "outputs": [
    {
     "data": {
      "text/plain": "7"
     },
     "execution_count": 275,
     "metadata": {},
     "output_type": "execute_result"
    }
   ],
   "source": [
    "\"Steve\\n\\n\\n\\n\\n\\n\\n\".count(\"\\n\")"
   ]
  }
 ],
 "metadata": {
  "kernelspec": {
   "display_name": "Python 3.9.5 64-bit",
   "name": "python395jvsc74a57bd07812ea015bdcee6f23a998adcdd2ef97c151c0c241b7b7070987d9313e41299d"
  },
  "language_info": {
   "codemirror_mode": {
    "name": "ipython",
    "version": 3
   },
   "file_extension": ".py",
   "mimetype": "text/x-python",
   "name": "python",
   "nbconvert_exporter": "python",
   "pygments_lexer": "ipython3",
   "version": "3.9.5"
  },
  "metadata": {
   "interpreter": {
    "hash": "7812ea015bdcee6f23a998adcdd2ef97c151c0c241b7b7070987d9313e41299d"
   }
  },
  "orig_nbformat": 2
 },
 "nbformat": 4,
 "nbformat_minor": 2
}