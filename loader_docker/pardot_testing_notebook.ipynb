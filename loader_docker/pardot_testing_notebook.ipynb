{
 "cells": [
  {
   "cell_type": "code",
   "execution_count": 91,
   "metadata": {},
   "outputs": [],
   "source": [
    "import time\n",
    "import datetime as dt\n",
    "import pandas as pd\n",
    "import snowflake.connector\n",
    "from pypardot.client import PardotAPI, PardotAPIError\n",
    "import snowflake.connector\n"
   ]
  },
  {
   "cell_type": "code",
   "execution_count": 92,
   "metadata": {},
   "outputs": [],
   "source": [
    "PARDOT_EMAIL=\"segment_integrations@discoveryed.com\"\n",
    "PARDOT_USER_KEY=\"f5a1dc61d079e35d9a2066a4a8498c32\"\n",
    "PARDOT_SF_CONSUMER_KEY=\"3MVG9IHf89I1t8hpom1l0QzbTANHH.MOASIZ3yPPhu6hFI_uipXiYi7ku85yMWg_2gXxu5bzAyWCevOHp4jrf\"\n",
    "PARDOT_SF_CONSUMER_SECRET=\"BC6C2AA5D41DC0EBBBB3376CD329E92E66BD8D85DF85F9FAB9F22E86D857A29E\"\n",
    "PARDOT_SF_REFRESH_TOKEN=\"5Aep8618yVsldz6rZPMv4ouelrGoRNAfdaLSjo3.ILw4jdNGemJVI_MNYFoNkN9g39GUXqUEgzw3ylEVMjxAU3X\"\n",
    "PARDOT_BUSINESS_UNIT_ID=\"0Uv4P000000TNB0SAO\"\n",
    "PARDOT_API_VERSION=4\n",
    "PARDOT_MAX_RESULT_COUNT = 200\n",
    "SNOWFLAKE_ACCOUNT_IDENTIFIER=\"UK29315.us-east-1\"\n",
    "SNOWFLAKE_USER=\"PardotEtlUser@discoveryed.com\"\n",
    "SNOWFLAKE_PASS=\"p@rd0tEtlUser\""
   ]
  },
  {
   "cell_type": "code",
   "execution_count": 93,
   "metadata": {},
   "outputs": [],
   "source": [
    "def get_client_pardot() -> PardotAPI:\n",
    "    try:\n",
    "        p = PardotAPI(\n",
    "            email=PARDOT_EMAIL,\n",
    "            user_key=PARDOT_USER_KEY,\n",
    "            sf_consumer_key=PARDOT_SF_CONSUMER_KEY,\n",
    "            sf_consumer_secret=PARDOT_SF_CONSUMER_SECRET,\n",
    "            sf_refresh_token=PARDOT_SF_REFRESH_TOKEN,\n",
    "            business_unit_id=PARDOT_BUSINESS_UNIT_ID,\n",
    "            version=PARDOT_API_VERSION,\n",
    "        )\n",
    "\n",
    "        if not p.authenticate():\n",
    "            p.campaigns.query(limit=1)\n",
    "            # ^ Must call query to authenticate if authenticatation is unsuccessful\n",
    "\n",
    "    except PardotAPIError as err:\n",
    "        raise\n",
    "\n",
    "    assert (\n",
    "        p.sftoken != \"dummy\"\n",
    "    ), \"Pardot authentication still unsuccessful after querying\"\n",
    "\n",
    "    return p\n",
    "\n",
    "def get_client_snowflake():\n",
    "    return snowflake.connector.connect(\n",
    "        user=SNOWFLAKE_USER,\n",
    "        password=SNOWFLAKE_PASS,\n",
    "        account=SNOWFLAKE_ACCOUNT_IDENTIFIER,\n",
    "        # authenticator=\"externalbrowser\",\n",
    "        warehouse=\"GENERAL_COMPUTE_WH\",\n",
    "        database=\"PROD_DATA_VAULT\",\n",
    "        schema=\"STAGE\",\n",
    "    )"
   ]
  },
  {
   "cell_type": "code",
   "execution_count": 94,
   "metadata": {},
   "outputs": [],
   "source": [
    "p = get_client_pardot()"
   ]
  },
  {
   "cell_type": "code",
   "execution_count": 95,
   "metadata": {},
   "outputs": [],
   "source": [
    "tables = [\n",
    "'Campaign',\n",
    "'Form',\n",
    "'Tag',\n",
    "'Opportunity',\n",
    "'EmailClick',\n",
    "'List',\n",
    "'Account',\n",
    "'TagObject',\n",
    "\"Prospect\",\n",
    "\"VisitorActivity\",\n",
    "\"Visitor\",\n",
    "\"ListMembership\",\n",
    "\"ProspectAccount\"\n",
    "]\n",
    "\n",
    "tag_object_types = [\"Email\",\"Campaign\",\"List\"]\n",
    "\n",
    "DICT_CONVERSION_PURAL = {\n",
    "    \"Account\": \"accounts\",\n",
    "    \"EmailClick\": \"emailclicks\",\n",
    "    \"Email\": \"emails\",\n",
    "    \"VisitorActivity\": \"visitoractivities\",\n",
    "    \"Campaign\": \"campaigns\",\n",
    "    \"List\": \"lists\",\n",
    "    \"Prospect\": \"prospects\",\n",
    "    \"TagObject\": \"tagobjects\",\n",
    "    \"Tag\": \"tags\",\n",
    "    \"Opportunity\": \"opportunities\",\n",
    "    \"ProspectAccounts\": \"prospectaccounts\",\n",
    "    \"Form\": \"forms\",\n",
    "    \"ListMembership\": \"listmemberships\",\n",
    "    \"Visitor\": \"visitors\",\n",
    "    \"ProspectAccount\": \"prospectaccounts\",\n",
    "}\n"
   ]
  },
  {
   "cell_type": "code",
   "execution_count": 96,
   "metadata": {},
   "outputs": [],
   "source": [
    "def helper_to_camelCase(s: str) -> str:\n",
    "    \"Return the same string with the first letter lowercase\"\n",
    "    return str(s[0].lower() + s[1:])"
   ]
  },
  {
   "cell_type": "code",
   "execution_count": 97,
   "metadata": {},
   "outputs": [
    {
     "name": "stdout",
     "output_type": "stream",
     "text": [
      "Campaign\n",
      "Form\n",
      "Tag\n",
      "Opportunity\n",
      "EmailClick\n"
     ]
    }
   ],
   "source": [
    "expected_results = {}\n",
    "for data_type in tables:\n",
    "    try:\n",
    "        time.sleep(3)\n",
    "        print(data_type)\n",
    "        data_client = getattr(p, DICT_CONVERSION_PURAL[data_type])\n",
    "        if not hasattr(data_client, \"query\"):\n",
    "            # If the data_client doesn't have a query method, try the \"read\" method\n",
    "            data = data_client.read()[helper_to_camelCase(data_type)]\n",
    "            if isinstance(data, dict):\n",
    "                # Assume only one record\n",
    "                expected_results[data_type]=1\n",
    "            elif isinstance(data, list):\n",
    "                expected_results[data_type]=len(data)\n",
    "        else:\n",
    "            if data_type==\"TagObject\":\n",
    "                counter = 0\n",
    "                for tag_type in tag_object_types:\n",
    "                    time.sleep(2)\n",
    "                    data_raw = data_client.query(limit=1,type=tag_type)\n",
    "                    counter = counter + data_raw[\"total_results\"]\n",
    "                expected_results[data_type] = counter\n",
    "            else:\n",
    "                data_raw = data_client.query(limit=1)\n",
    "                expected_results[data_type]=data_raw[\"total_results\"]\n",
    "    except:\n",
    "        print(f\"{data_type} failed\")\n",
    "        raise\n",
    "\n"
   ]
  },
  {
   "cell_type": "code",
   "execution_count": 81,
   "metadata": {},
   "outputs": [],
   "source": [
    "ctx = get_client_snowflake()\n",
    "cs = ctx.cursor()\n",
    "name_table_snowflake = \"PARDOT_OPPORTUNITY\"\n",
    "SF_SCHEMA = \"PROD_DATA_VAULT\"\n",
    "\n",
    "\n",
    "tables = ['Campaign',\n",
    "'Form',\n",
    "'Tag',\n",
    "'Opportunity',\n",
    "'EmailClick',\n",
    "'List',\n",
    "'Account','TagObject',\"Email\",\"Prospect\",\"VisitorActivity\",\"Visitor\",\"ListMembership\",\"ProspectAccount\"]\n",
    "\n",
    "queries = []\n",
    "for table in tables:\n",
    "    if table == \"TagObject\":\n",
    "        sql_template = f\"\"\"select a.data_object,count_market_distinct,count_market_total,count_stage_distinct,count_stage_total from (\n",
    "        select '{table}' as data_object,count(distinct tag_object_id) as count_market_distinct, count(1) as count_market_total from prod_data_vault.marketing.{table}) a\n",
    "        left join (select '{table}' as data_object,count(distinct tag_object_id) as count_stage_distinct, count(1) as count_stage_total from prod_data_vault.stage.PARDOT_{table}) b\n",
    "        on a.data_object = b.data_object\"\"\"\n",
    "    elif table == \"VisitorActivity\":\n",
    "        sql_template = f\"\"\"select a.data_object,count_market_distinct,count_market_total,count_stage_distinct,count_stage_total from (\n",
    "        select '{table}' as data_object,count(distinct visitor_activity_id) as count_market_distinct, count(1) as count_market_total from prod_data_vault.marketing.{table}) a\n",
    "        left join (select '{table}' as data_object,count(distinct visitor_activity_id) as count_stage_distinct, count(1) as count_stage_total from prod_data_vault.stage.PARDOT_{table}) b\n",
    "        on a.data_object = b.data_object\"\"\"\n",
    "    else:\n",
    "        sql_template = f\"\"\"select a.data_object,count_market_distinct,count_market_total,count_stage_distinct,count_stage_total from (\n",
    "        select '{table}' as data_object,count(distinct {table}_id) as count_market_distinct, count(1) as count_market_total from prod_data_vault.marketing.{table}) a\n",
    "        left join (select '{table}' as data_object,count(distinct {table}_id) as count_stage_distinct, count(1) as count_stage_total from prod_data_vault.stage.PARDOT_{table}) b\n",
    "        on a.data_object = b.data_object\"\"\"\n",
    "    queries.append(sql_template)\n",
    "\n",
    "query_join = ' union all '.join(queries)\n",
    "\n",
    "email_query = \"\"\"select \n",
    "        count(distinct a.list_email_id) as expected\n",
    "        from PARDOT_VISITORACTIVITY a\n",
    "        where a.email_id is not null and a.list_email_id is not null\"\"\"\n",
    "\n",
    "cs.execute(query_join)\n",
    "data =  cs.fetchall()  \n",
    "columns = [f'{col[0]}' for col in cs.description]\n",
    "\n",
    "\n",
    "sf_data = pd.DataFrame(data,columns=columns)\n",
    "\n",
    "try:\n",
    "    cs.execute(email_query)\n",
    "    email_expected =  cs.fetchone()[0]\n",
    "finally:\n",
    "    cs.close()\n",
    "ctx.close()\n",
    "sf_data\n",
    "\n",
    "sf_data.loc[sf_data[\"DATA_OBJECT\"]==\"Email\",\"EXPECTED\"] = email_expected"
   ]
  },
  {
   "cell_type": "code",
   "execution_count": 85,
   "metadata": {},
   "outputs": [
    {
     "data": {
      "text/html": "<div>\n<style scoped>\n    .dataframe tbody tr th:only-of-type {\n        vertical-align: middle;\n    }\n\n    .dataframe tbody tr th {\n        vertical-align: top;\n    }\n\n    .dataframe thead th {\n        text-align: right;\n    }\n</style>\n<table border=\"1\" class=\"dataframe\">\n  <thead>\n    <tr style=\"text-align: right;\">\n      <th></th>\n      <th>DATA_OBJECT</th>\n      <th>COUNT_MARKET_DISTINCT</th>\n      <th>COUNT_MARKET_TOTAL</th>\n      <th>COUNT_STAGE_DISTINCT</th>\n      <th>COUNT_STAGE_TOTAL</th>\n      <th>EXPECTED</th>\n      <th>ISSUE</th>\n    </tr>\n  </thead>\n  <tbody>\n    <tr>\n      <th>0</th>\n      <td>Campaign</td>\n      <td>551</td>\n      <td>551</td>\n      <td>552</td>\n      <td>1103</td>\n      <td>552.0</td>\n      <td>CORRECT</td>\n    </tr>\n    <tr>\n      <th>1</th>\n      <td>Form</td>\n      <td>7</td>\n      <td>7</td>\n      <td>14</td>\n      <td>21</td>\n      <td>14.0</td>\n      <td>CORRECT</td>\n    </tr>\n    <tr>\n      <th>2</th>\n      <td>Tag</td>\n      <td>2</td>\n      <td>2</td>\n      <td>174</td>\n      <td>176</td>\n      <td>174.0</td>\n      <td>CORRECT</td>\n    </tr>\n    <tr>\n      <th>3</th>\n      <td>Opportunity</td>\n      <td>8499</td>\n      <td>8499</td>\n      <td>8499</td>\n      <td>10508</td>\n      <td>8499.0</td>\n      <td>CORRECT</td>\n    </tr>\n    <tr>\n      <th>4</th>\n      <td>EmailClick</td>\n      <td>1141682</td>\n      <td>1141684</td>\n      <td>1142962</td>\n      <td>1142965</td>\n      <td>1142949.0</td>\n      <td>EXPECTED LOWER</td>\n    </tr>\n    <tr>\n      <th>5</th>\n      <td>List</td>\n      <td>1794</td>\n      <td>1794</td>\n      <td>1800</td>\n      <td>1800</td>\n      <td>1798.0</td>\n      <td>EXPECTED LOWER</td>\n    </tr>\n    <tr>\n      <th>6</th>\n      <td>Account</td>\n      <td>1</td>\n      <td>1</td>\n      <td>1</td>\n      <td>2</td>\n      <td>1.0</td>\n      <td>CORRECT</td>\n    </tr>\n    <tr>\n      <th>7</th>\n      <td>TagObject</td>\n      <td>3469</td>\n      <td>6932</td>\n      <td>3485</td>\n      <td>3485</td>\n      <td>3491.0</td>\n      <td>DATA MISSING</td>\n    </tr>\n    <tr>\n      <th>8</th>\n      <td>Email</td>\n      <td>0</td>\n      <td>0</td>\n      <td>0</td>\n      <td>0</td>\n      <td>2091.0</td>\n      <td>DATA MISSING</td>\n    </tr>\n    <tr>\n      <th>9</th>\n      <td>Prospect</td>\n      <td>0</td>\n      <td>0</td>\n      <td>0</td>\n      <td>0</td>\n      <td>4714195.0</td>\n      <td>DATA MISSING</td>\n    </tr>\n    <tr>\n      <th>10</th>\n      <td>VisitorActivity</td>\n      <td>0</td>\n      <td>0</td>\n      <td>40247518</td>\n      <td>40247518</td>\n      <td>148521371.0</td>\n      <td>DATA MISSING</td>\n    </tr>\n    <tr>\n      <th>11</th>\n      <td>Visitor</td>\n      <td>0</td>\n      <td>0</td>\n      <td>0</td>\n      <td>0</td>\n      <td>272590.0</td>\n      <td>DATA MISSING</td>\n    </tr>\n    <tr>\n      <th>12</th>\n      <td>ListMembership</td>\n      <td>0</td>\n      <td>0</td>\n      <td>0</td>\n      <td>0</td>\n      <td>122565180.0</td>\n      <td>DATA MISSING</td>\n    </tr>\n    <tr>\n      <th>13</th>\n      <td>ProspectAccount</td>\n      <td>0</td>\n      <td>0</td>\n      <td>0</td>\n      <td>0</td>\n      <td>120768.0</td>\n      <td>DATA MISSING</td>\n    </tr>\n  </tbody>\n</table>\n</div>",
      "text/plain": "        DATA_OBJECT  COUNT_MARKET_DISTINCT  COUNT_MARKET_TOTAL  \\\n0          Campaign                    551                 551   \n1              Form                      7                   7   \n2               Tag                      2                   2   \n3       Opportunity                   8499                8499   \n4        EmailClick                1141682             1141684   \n5              List                   1794                1794   \n6           Account                      1                   1   \n7         TagObject                   3469                6932   \n8             Email                      0                   0   \n9          Prospect                      0                   0   \n10  VisitorActivity                      0                   0   \n11          Visitor                      0                   0   \n12   ListMembership                      0                   0   \n13  ProspectAccount                      0                   0   \n\n    COUNT_STAGE_DISTINCT  COUNT_STAGE_TOTAL     EXPECTED           ISSUE  \n0                    552               1103        552.0         CORRECT  \n1                     14                 21         14.0         CORRECT  \n2                    174                176        174.0         CORRECT  \n3                   8499              10508       8499.0         CORRECT  \n4                1142962            1142965    1142949.0  EXPECTED LOWER  \n5                   1800               1800       1798.0  EXPECTED LOWER  \n6                      1                  2          1.0         CORRECT  \n7                   3485               3485       3491.0    DATA MISSING  \n8                      0                  0       2091.0    DATA MISSING  \n9                      0                  0    4714195.0    DATA MISSING  \n10              40247518           40247518  148521371.0    DATA MISSING  \n11                     0                  0     272590.0    DATA MISSING  \n12                     0                  0  122565180.0    DATA MISSING  \n13                     0                  0     120768.0    DATA MISSING  "
     },
     "execution_count": 85,
     "metadata": {},
     "output_type": "execute_result"
    }
   ],
   "source": [
    "for d_obj, exected in expected_results.items():\n",
    "    sf_data.loc[sf_data[\"DATA_OBJECT\"]==d_obj,\"EXPECTED\"] = exected\n",
    "\n",
    "sf_data.loc[sf_data[\"EXPECTED\"]<sf_data[\"COUNT_STAGE_DISTINCT\"],\"ISSUE\"] = \"EXPECTED LOWER\"\n",
    "sf_data.loc[sf_data[\"EXPECTED\"]>sf_data[\"COUNT_STAGE_DISTINCT\"],\"ISSUE\"] = \"DATA MISSING\"\n",
    "sf_data.loc[sf_data[\"EXPECTED\"]==sf_data[\"COUNT_STAGE_DISTINCT\"],\"ISSUE\"] = \"CORRECT\"\n",
    "sf_data\n"
   ]
  },
  {
   "cell_type": "code",
   "execution_count": 90,
   "metadata": {},
   "outputs": [
    {
     "data": {
      "text/plain": "{'@attributes': {'stat': 'ok', 'version': 1},\n 'export': {'id': 4480,\n  'state': 'Processing',\n  'object': 'visitorActivity',\n  'fields': ['id',\n   'campaign_id',\n   'created_at',\n   'updated_at',\n   'custom_redirect_id',\n   'details',\n   'email_id',\n   'email_template_id',\n   'file_id',\n   'form_id',\n   'form_handler_id',\n   'landing_page_id',\n   'list_email_id',\n   'multivariate_test_variation_id',\n   'opportunity_id',\n   'paid_search_ad_id',\n   'prospect_id',\n   'site_search_query_id',\n   'type',\n   'type_name',\n   'visit_id',\n   'visitor_id',\n   'visitor_page_view_id'],\n  'procedure': {'name': 'filter_by_updated_at',\n   'arguments': {'updated_after': '2021-01-01 00:00:00',\n    'updated_before': '2021-12-31 00:00:00'}},\n  'isExpired': False,\n  'createdAt': '2022-02-01 16:06:45',\n  'updatedAt': '2022-02-01 17:34:55'}}"
     },
     "execution_count": 90,
     "metadata": {},
     "output_type": "execute_result"
    }
   ],
   "source": [
    "# If required, download and push this through the notebook\n",
    "import requests\n",
    "headers = {\n",
    "    \"content-type\": \"application/json\",\n",
    "    \"Authorization\": f\"Bearer {p.sftoken}\",\n",
    "    \"Pardot-Business-Unit-Id\": PARDOT_BUSINESS_UNIT_ID,\n",
    "}\n",
    "PARDOT_API_VERSION = 4\n",
    "PARDOT_URL_API = f\"https://pi.pardot.com/api/export/version/{PARDOT_API_VERSION}\"\n",
    "ID = 4480\n",
    "\n",
    "response = requests.get(\n",
    "    f\"{PARDOT_URL_API}/do/read/id/{ID}\",\n",
    "            headers=headers,\n",
    "            params=((\"format\", \"json\"),),\n",
    "        )\n",
    "\n",
    "response.json()"
   ]
  }
 ],
 "metadata": {
  "kernelspec": {
   "display_name": "Python 3.9.5 64-bit",
   "name": "python395jvsc74a57bd07812ea015bdcee6f23a998adcdd2ef97c151c0c241b7b7070987d9313e41299d"
  },
  "language_info": {
   "codemirror_mode": {
    "name": "ipython",
    "version": 3
   },
   "file_extension": ".py",
   "mimetype": "text/x-python",
   "name": "python",
   "nbconvert_exporter": "python",
   "pygments_lexer": "ipython3",
   "version": "3.9.5"
  },
  "metadata": {
   "interpreter": {
    "hash": "7812ea015bdcee6f23a998adcdd2ef97c151c0c241b7b7070987d9313e41299d"
   }
  },
  "orig_nbformat": 2
 },
 "nbformat": 4,
 "nbformat_minor": 2
}