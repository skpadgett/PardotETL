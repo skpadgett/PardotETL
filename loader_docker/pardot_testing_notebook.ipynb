{
 "cells": [
  {
   "cell_type": "code",
   "execution_count": 1,
   "metadata": {},
   "outputs": [],
   "source": [
    "import time\n",
    "import datetime as dt\n",
    "import pandas as pd\n",
    "import snowflake.connector\n",
    "from pypardot.client import PardotAPI, PardotAPIError\n",
    "import snowflake.connector\n",
    "import requests\n",
    "pd.options.display.float_format = '{:,.2f}'.format\n"
   ]
  },
  {
   "cell_type": "code",
   "execution_count": 2,
   "metadata": {},
   "outputs": [],
   "source": [
    "PARDOT_EMAIL=\"segment_integrations@discoveryed.com\"\n",
    "PARDOT_USER_KEY=\"f5a1dc61d079e35d9a2066a4a8498c32\"\n",
    "PARDOT_SF_CONSUMER_KEY=\"3MVG9IHf89I1t8hpom1l0QzbTANHH.MOASIZ3yPPhu6hFI_uipXiYi7ku85yMWg_2gXxu5bzAyWCevOHp4jrf\"\n",
    "PARDOT_SF_CONSUMER_SECRET=\"BC6C2AA5D41DC0EBBBB3376CD329E92E66BD8D85DF85F9FAB9F22E86D857A29E\"\n",
    "PARDOT_SF_REFRESH_TOKEN=\"5Aep8618yVsldz6rZPMv4ouelrGoRNAfdaLSjo3.ILw4jdNGemJVI_MNYFoNkN9g39GUXqUEgzw3ylEVMjxAU3X\"\n",
    "PARDOT_BUSINESS_UNIT_ID=\"0Uv4P000000TNB0SAO\"\n",
    "PARDOT_API_VERSION=4\n",
    "PARDOT_MAX_RESULT_COUNT = 200\n",
    "SNOWFLAKE_ACCOUNT_IDENTIFIER=\"UK29315.us-east-1\"\n",
    "SNOWFLAKE_USER=\"PardotEtlUser@discoveryed.com\"\n",
    "SNOWFLAKE_PASS=\"p@rd0tEtlUser\"\n",
    "SF_SCHEMA = \"PROD_DATA_VAULT\""
   ]
  },
  {
   "cell_type": "code",
   "execution_count": 3,
   "metadata": {},
   "outputs": [],
   "source": [
    "def get_client_pardot() -> PardotAPI:\n",
    "    try:\n",
    "        p = PardotAPI(\n",
    "            email=PARDOT_EMAIL,\n",
    "            user_key=PARDOT_USER_KEY,\n",
    "            sf_consumer_key=PARDOT_SF_CONSUMER_KEY,\n",
    "            sf_consumer_secret=PARDOT_SF_CONSUMER_SECRET,\n",
    "            sf_refresh_token=PARDOT_SF_REFRESH_TOKEN,\n",
    "            business_unit_id=PARDOT_BUSINESS_UNIT_ID,\n",
    "            version=PARDOT_API_VERSION,\n",
    "        )\n",
    "\n",
    "        if not p.authenticate():\n",
    "            p.campaigns.query(limit=1)\n",
    "            # ^ Must call query to authenticate if authenticatation is unsuccessful\n",
    "\n",
    "    except PardotAPIError as err:\n",
    "        raise\n",
    "\n",
    "    assert (\n",
    "        p.sftoken != \"dummy\"\n",
    "    ), \"Pardot authentication still unsuccessful after querying\"\n",
    "\n",
    "    return p\n",
    "\n",
    "def get_client_snowflake():\n",
    "    return snowflake.connector.connect(\n",
    "        user=SNOWFLAKE_USER,\n",
    "        password=SNOWFLAKE_PASS,\n",
    "        account=SNOWFLAKE_ACCOUNT_IDENTIFIER,\n",
    "        # authenticator=\"externalbrowser\",\n",
    "        warehouse=\"GENERAL_COMPUTE_WH\",\n",
    "        database=\"PROD_DATA_VAULT\",\n",
    "        schema=\"STAGE\",\n",
    "    )\n",
    "\n",
    "def query_sf(query_str):\n",
    "    ctx = get_client_snowflake()\n",
    "    cs = ctx.cursor()\n",
    "    cs.execute(query_str)\n",
    "    data =  cs.fetchall()  \n",
    "    columns = [f'{col[0]}' for col in cs.description]\n",
    "    return pd.DataFrame(data,columns=columns)"
   ]
  },
  {
   "cell_type": "code",
   "execution_count": 4,
   "metadata": {},
   "outputs": [],
   "source": [
    "p = get_client_pardot()"
   ]
  },
  {
   "cell_type": "code",
   "execution_count": 5,
   "metadata": {},
   "outputs": [],
   "source": [
    "tables = [\n",
    "# \"ListMembership\",\n",
    "'Campaign',\n",
    "'Form',\n",
    "# \"VisitorActivity\",\n",
    "'Tag',\n",
    "'Opportunity',\n",
    "'EmailClick',\n",
    "'List',\n",
    "'Account',\n",
    "'TagObject',\n",
    "\"Prospect\",\n",
    "\"Visitor\",\n",
    "\"ProspectAccount\",\n",
    "]\n",
    "\n",
    "tag_object_types = [\"Email\",\"Campaign\",\"List\"]\n",
    "\n",
    "DICT_CONVERSION_PURAL = {\n",
    "    \"Account\": \"accounts\",\n",
    "    \"EmailClick\": \"emailclicks\",\n",
    "    \"Email\": \"emails\",\n",
    "    \"VisitorActivity\": \"visitoractivities\",\n",
    "    \"Campaign\": \"campaigns\",\n",
    "    \"List\": \"lists\",\n",
    "    \"Prospect\": \"prospects\",\n",
    "    \"TagObject\": \"tagobjects\",\n",
    "    \"Tag\": \"tags\",\n",
    "    \"Opportunity\": \"opportunities\",\n",
    "    \"ProspectAccounts\": \"prospectaccounts\",\n",
    "    \"Form\": \"forms\",\n",
    "    \"ListMembership\": \"listmemberships\",\n",
    "    \"Visitor\": \"visitors\",\n",
    "    \"ProspectAccount\": \"prospectaccounts\",\n",
    "}\n"
   ]
  },
  {
   "cell_type": "code",
   "execution_count": 6,
   "metadata": {},
   "outputs": [],
   "source": [
    "def helper_to_camelCase(s: str) -> str:\n",
    "    \"Return the same string with the first letter lowercase\"\n",
    "    return str(s[0].lower() + s[1:])"
   ]
  },
  {
   "cell_type": "code",
   "execution_count": 7,
   "metadata": {},
   "outputs": [
    {
     "name": "stdout",
     "output_type": "stream",
     "text": [
      "Campaign\n",
      "Form\n",
      "Tag\n",
      "Opportunity\n",
      "EmailClick\n",
      "List\n",
      "Account\n",
      "TagObject\n",
      "Prospect\n",
      "Visitor\n",
      "ProspectAccount\n"
     ]
    }
   ],
   "source": [
    "expected_results = {}\n",
    "for data_type in tables:\n",
    "    try:\n",
    "        print(data_type)\n",
    "        data_client = getattr(p, DICT_CONVERSION_PURAL[data_type])\n",
    "        if not hasattr(data_client, \"query\"):\n",
    "            # If the data_client doesn't have a query method, try the \"read\" method\n",
    "            data = data_client.read()[helper_to_camelCase(data_type)]\n",
    "            if isinstance(data, dict):\n",
    "                # Assume only one record\n",
    "                expected_results[data_type]=1\n",
    "            elif isinstance(data, list):\n",
    "                expected_results[data_type]=len(data)\n",
    "        else:\n",
    "            if data_type==\"TagObject\":\n",
    "                counter = 0\n",
    "                for tag_type in tag_object_types:\n",
    "                    time.sleep(2)\n",
    "                    data_raw = data_client.query(limit=1,type=tag_type)\n",
    "                    counter += data_raw[\"total_results\"]\n",
    "                expected_results[data_type] = counter\n",
    "            else:\n",
    "                data_raw = data_client.query(limit=1)\n",
    "                expected_results[data_type]=data_raw[\"total_results\"]\n",
    "    except:\n",
    "        print(f\"{data_type} failed\")\n",
    "        raise\n",
    "\n"
   ]
  },
  {
   "cell_type": "code",
   "execution_count": 8,
   "metadata": {},
   "outputs": [],
   "source": [
    "tables = ['Campaign',\n",
    "'Form',\n",
    "'Tag',\n",
    "'Opportunity',\n",
    "'EmailClick',\n",
    "'List',\n",
    "'Account',\n",
    "'TagObject',\n",
    "\"Email\",\n",
    "\"EmailStat\",\n",
    "\"Prospect\",\n",
    "\"VisitorActivity\",\n",
    "\"Visitor\",\n",
    "\"ListMembership\",\n",
    "\"ProspectAccount\"\n",
    "]\n",
    "\n",
    "queries = []\n",
    "for table in tables:\n",
    "    if table == \"TagObject\":\n",
    "        sql_template = f\"\"\"select a.data_object,count_market_distinct,count_market_total,count_stage_distinct,count_stage_total from (\n",
    "        select '{table}' as data_object,count(distinct tag_object_id) as count_market_distinct, count(1) as count_market_total from prod_data_vault.marketing.{table}) a\n",
    "        left join (select '{table}' as data_object,count(distinct tag_object_id) as count_stage_distinct, count(1) as count_stage_total from prod_data_vault.stage.PARDOT_{table}) b\n",
    "        on a.data_object = b.data_object\"\"\"\n",
    "    elif table == \"VisitorActivity\":\n",
    "        sql_template = f\"\"\"select a.data_object,count_market_distinct,count_market_total,count_stage_distinct,count_stage_total from (\n",
    "        select '{table}' as data_object,count(distinct visitor_activity_id) as count_market_distinct, count(1) as count_market_total from prod_data_vault.marketing.{table}) a\n",
    "        left join (select '{table}' as data_object,count(distinct visitor_activity_id) as count_stage_distinct, count(1) as count_stage_total from prod_data_vault.stage.PARDOT_{table}) b\n",
    "        on a.data_object = b.data_object\"\"\"\n",
    "    elif table=='EmailStat':\n",
    "        sql_template = f\"\"\"select a.data_object,count_market_distinct,count_market_total,count_stage_distinct,count_stage_total from (\n",
    "        select '{table}' as data_object,count(distinct list_email_id) as count_market_distinct, count(1) as count_market_total from prod_data_vault.marketing.{table}) a\n",
    "        left join (select '{table}' as data_object,count(distinct list_email_id) as count_stage_distinct, count(1) as count_stage_total from prod_data_vault.stage.PARDOT_{table}) b\n",
    "        on a.data_object = b.data_object\"\"\"\n",
    "    else:\n",
    "        sql_template = f\"\"\"select a.data_object,count_market_distinct,count_market_total,count_stage_distinct,count_stage_total from (\n",
    "        select '{table}' as data_object,count(distinct {table}_id) as count_market_distinct, count(1) as count_market_total from prod_data_vault.marketing.{table}) a\n",
    "        left join (select '{table}' as data_object,count(distinct {table}_id) as count_stage_distinct, count(1) as count_stage_total from prod_data_vault.stage.PARDOT_{table}) b\n",
    "        on a.data_object = b.data_object\"\"\"\n",
    "    queries.append(sql_template)\n",
    "\n",
    "query_join = ' union all '.join(queries)\n",
    "\n",
    "email_query = \"\"\"select \n",
    "        count(distinct a.list_email_id) as expected\n",
    "        from PARDOT_VISITORACTIVITY a\n",
    "        where a.email_id is not null and a.list_email_id is not null\"\"\"\n",
    "\n",
    "sf_data = query_sf(query_join)\n",
    "\n",
    "try:\n",
    "    ctx = get_client_snowflake()\n",
    "    cs = ctx.cursor()\n",
    "    cs.execute(email_query)\n",
    "    email_expected =  cs.fetchone()[0]\n",
    "finally:\n",
    "    cs.close()\n",
    "ctx.close()\n",
    "\n",
    "# Add expected count for email object\n",
    "sf_data.loc[sf_data[\"DATA_OBJECT\"]==\"Email\",\"EXPECTED\"] = email_expected\n",
    "sf_data.loc[sf_data[\"DATA_OBJECT\"]==\"EmailStat\",\"EXPECTED\"] = email_expected"
   ]
  },
  {
   "cell_type": "code",
   "execution_count": 9,
   "metadata": {},
   "outputs": [
    {
     "data": {
      "text/html": "<div>\n<style scoped>\n    .dataframe tbody tr th:only-of-type {\n        vertical-align: middle;\n    }\n\n    .dataframe tbody tr th {\n        vertical-align: top;\n    }\n\n    .dataframe thead th {\n        text-align: right;\n    }\n</style>\n<table border=\"1\" class=\"dataframe\">\n  <thead>\n    <tr style=\"text-align: right;\">\n      <th></th>\n      <th>DATA_OBJECT</th>\n      <th>COUNT_MARKET_DISTINCT</th>\n      <th>COUNT_MARKET_TOTAL</th>\n      <th>COUNT_STAGE_DISTINCT</th>\n      <th>COUNT_STAGE_TOTAL</th>\n      <th>EXPECTED</th>\n      <th>DIFFERENCE</th>\n      <th>EXPECT_ISSUE</th>\n      <th>MARKET_ISSUE</th>\n      <th>STORED_PROC_ISSUE</th>\n    </tr>\n  </thead>\n  <tbody>\n    <tr>\n      <th>0</th>\n      <td>Campaign</td>\n      <td>589</td>\n      <td>589</td>\n      <td>589</td>\n      <td>19901</td>\n      <td>589.00</td>\n      <td>0.00</td>\n      <td></td>\n      <td></td>\n      <td></td>\n    </tr>\n    <tr>\n      <th>1</th>\n      <td>Form</td>\n      <td>14</td>\n      <td>14</td>\n      <td>14</td>\n      <td>119</td>\n      <td>12.00</td>\n      <td>-2.00</td>\n      <td>EXPECTED LOWER</td>\n      <td></td>\n      <td></td>\n    </tr>\n    <tr>\n      <th>2</th>\n      <td>Tag</td>\n      <td>190</td>\n      <td>190</td>\n      <td>190</td>\n      <td>253</td>\n      <td>177.00</td>\n      <td>-13.00</td>\n      <td>EXPECTED LOWER</td>\n      <td></td>\n      <td></td>\n    </tr>\n    <tr>\n      <th>3</th>\n      <td>Opportunity</td>\n      <td>8900</td>\n      <td>8900</td>\n      <td>8900</td>\n      <td>44507</td>\n      <td>8,903.00</td>\n      <td>3.00</td>\n      <td>DATA MISSING</td>\n      <td></td>\n      <td></td>\n    </tr>\n    <tr>\n      <th>4</th>\n      <td>EmailClick</td>\n      <td>1231943</td>\n      <td>1231943</td>\n      <td>1231943</td>\n      <td>1305427</td>\n      <td>1,232,092.00</td>\n      <td>149.00</td>\n      <td>DATA MISSING</td>\n      <td></td>\n      <td></td>\n    </tr>\n    <tr>\n      <th>5</th>\n      <td>List</td>\n      <td>1897</td>\n      <td>1897</td>\n      <td>1897</td>\n      <td>2088</td>\n      <td>1,892.00</td>\n      <td>-5.00</td>\n      <td>EXPECTED LOWER</td>\n      <td></td>\n      <td></td>\n    </tr>\n    <tr>\n      <th>6</th>\n      <td>Account</td>\n      <td>1</td>\n      <td>1</td>\n      <td>1</td>\n      <td>35</td>\n      <td>1.00</td>\n      <td>0.00</td>\n      <td></td>\n      <td></td>\n      <td></td>\n    </tr>\n    <tr>\n      <th>7</th>\n      <td>TagObject</td>\n      <td>4065</td>\n      <td>4065</td>\n      <td>4065</td>\n      <td>4960</td>\n      <td>4,209.00</td>\n      <td>144.00</td>\n      <td>DATA MISSING</td>\n      <td></td>\n      <td></td>\n    </tr>\n    <tr>\n      <th>8</th>\n      <td>Email</td>\n      <td>8391</td>\n      <td>8391</td>\n      <td>8391</td>\n      <td>8391</td>\n      <td>8,391.00</td>\n      <td>0.00</td>\n      <td></td>\n      <td></td>\n      <td></td>\n    </tr>\n    <tr>\n      <th>9</th>\n      <td>EmailStat</td>\n      <td>8391</td>\n      <td>8391</td>\n      <td>8391</td>\n      <td>41435</td>\n      <td>8,391.00</td>\n      <td>0.00</td>\n      <td></td>\n      <td></td>\n      <td></td>\n    </tr>\n    <tr>\n      <th>10</th>\n      <td>Prospect</td>\n      <td>4919817</td>\n      <td>4919817</td>\n      <td>4919817</td>\n      <td>9732594</td>\n      <td>4,692,615.00</td>\n      <td>-227,202.00</td>\n      <td>EXPECTED LOWER</td>\n      <td></td>\n      <td></td>\n    </tr>\n    <tr>\n      <th>11</th>\n      <td>VisitorActivity</td>\n      <td>157565281</td>\n      <td>157565281</td>\n      <td>157565281</td>\n      <td>162416985</td>\n      <td></td>\n      <td></td>\n      <td></td>\n      <td></td>\n      <td></td>\n    </tr>\n    <tr>\n      <th>12</th>\n      <td>Visitor</td>\n      <td>4099465</td>\n      <td>4099465</td>\n      <td>4099465</td>\n      <td>4188433</td>\n      <td>276,296.00</td>\n      <td>-3,823,169.00</td>\n      <td>EXPECTED LOWER</td>\n      <td></td>\n      <td></td>\n    </tr>\n    <tr>\n      <th>13</th>\n      <td>ListMembership</td>\n      <td>134077903</td>\n      <td>134077903</td>\n      <td>134077903</td>\n      <td>165952336</td>\n      <td></td>\n      <td></td>\n      <td></td>\n      <td></td>\n      <td></td>\n    </tr>\n    <tr>\n      <th>14</th>\n      <td>ProspectAccount</td>\n      <td>120924</td>\n      <td>120924</td>\n      <td>120924</td>\n      <td>138617</td>\n      <td>120,924.00</td>\n      <td>0.00</td>\n      <td></td>\n      <td></td>\n      <td></td>\n    </tr>\n  </tbody>\n</table>\n</div>",
      "text/plain": "        DATA_OBJECT  COUNT_MARKET_DISTINCT  COUNT_MARKET_TOTAL  \\\n0          Campaign                    589                 589   \n1              Form                     14                  14   \n2               Tag                    190                 190   \n3       Opportunity                   8900                8900   \n4        EmailClick                1231943             1231943   \n5              List                   1897                1897   \n6           Account                      1                   1   \n7         TagObject                   4065                4065   \n8             Email                   8391                8391   \n9         EmailStat                   8391                8391   \n10         Prospect                4919817             4919817   \n11  VisitorActivity              157565281           157565281   \n12          Visitor                4099465             4099465   \n13   ListMembership              134077903           134077903   \n14  ProspectAccount                 120924              120924   \n\n    COUNT_STAGE_DISTINCT  COUNT_STAGE_TOTAL     EXPECTED    DIFFERENCE  \\\n0                    589              19901       589.00          0.00   \n1                     14                119        12.00         -2.00   \n2                    190                253       177.00        -13.00   \n3                   8900              44507     8,903.00          3.00   \n4                1231943            1305427 1,232,092.00        149.00   \n5                   1897               2088     1,892.00         -5.00   \n6                      1                 35         1.00          0.00   \n7                   4065               4960     4,209.00        144.00   \n8                   8391               8391     8,391.00          0.00   \n9                   8391              41435     8,391.00          0.00   \n10               4919817            9732594 4,692,615.00   -227,202.00   \n11             157565281          162416985                              \n12               4099465            4188433   276,296.00 -3,823,169.00   \n13             134077903          165952336                              \n14                120924             138617   120,924.00          0.00   \n\n      EXPECT_ISSUE MARKET_ISSUE STORED_PROC_ISSUE  \n0                                                  \n1   EXPECTED LOWER                                 \n2   EXPECTED LOWER                                 \n3     DATA MISSING                                 \n4     DATA MISSING                                 \n5   EXPECTED LOWER                                 \n6                                                  \n7     DATA MISSING                                 \n8                                                  \n9                                                  \n10  EXPECTED LOWER                                 \n11                                                 \n12  EXPECTED LOWER                                 \n13                                                 \n14                                                 "
     },
     "execution_count": 9,
     "metadata": {},
     "output_type": "execute_result"
    }
   ],
   "source": [
    "# Add expected count for all the other data objects\n",
    "for d_obj, exected in expected_results.items():\n",
    "    sf_data.loc[sf_data[\"DATA_OBJECT\"]==d_obj,\"EXPECTED\"] = exected\n",
    "\n",
    "# Determine discrepancy between expected and whats in stage\n",
    "sf_data[\"DIFFERENCE\"] = sf_data[\"EXPECTED\"]-sf_data[\"COUNT_STAGE_DISTINCT\"]\n",
    "\n",
    "# Flag issues with # of records compared to whats expected to come out of Pardot\n",
    "# It's almost never going to be perfect, but just check that it's relatively close\n",
    "sf_data.loc[sf_data[\"EXPECTED\"]<sf_data[\"COUNT_STAGE_DISTINCT\"],\"EXPECT_ISSUE\"] = \"EXPECTED LOWER\"\n",
    "sf_data.loc[sf_data[\"EXPECTED\"]>sf_data[\"COUNT_STAGE_DISTINCT\"],\"EXPECT_ISSUE\"] = \"DATA MISSING\"\n",
    "# sf_data.loc[sf_data[\"EXPECTED\"]==sf_data[\"COUNT_STAGE_DISTINCT\"],\"EXPECT_ISSUE\"] = \"CORRECT\"\n",
    "# Flag issues with duplicates in marketing schema (this would indicate a snowflake stored procedure error)\n",
    "sf_data.loc[sf_data[\"COUNT_MARKET_DISTINCT\"]<sf_data[\"COUNT_MARKET_TOTAL\"],\"MARKET_ISSUE\"] = \"DUPLICATES IN MARKET\"\n",
    "sf_data.loc[sf_data[\"COUNT_MARKET_DISTINCT\"]!=sf_data[\"COUNT_STAGE_DISTINCT\"],\"STORED_PROC_ISSUE\"] = \"DIFFERENT THAN STAGE\"\n",
    "\n",
    "sf_data.fillna('')\n",
    "\n",
    "# DATA OBJECT - which dataset this refers to\n",
    "# COUNT_MARKET_DISTINCT - how many distinct IDs are in the marketing schema table\n",
    "# COUNT_MARKET_TOTAL - how many total records are in the marketing schema table (this is used to check for duplicates against COUNT_MARKET_DISTINCT)\n",
    "# COUNT_STAGE_DISTINCT - how many distinct IDs are in the stage schema table (this is compared to COUNT_MARKET_DISTINCT to determine if all records from stage have been synced to marketing)\n",
    "# COUNT_STAGE_TOTAL - how many total records are in the stage schema table (there will be duplicates, but keep an eye on it for exponential growth. Signals issues with process)\n",
    "# EXPECTED - This is how many records for each dataset currently exist in pardot. We expected COUNT_STAGE_DISTINCT to be very close to this number (visitor accuracy is an outstanding question)\n",
    "# DIFFERENCE - Difference between EXPECTED and COUNT_STAGE_DISTINCT. Negative numbers mean data is in the warehouse that potentially shouldn't be. Positive means we are missing data. Just need to check it's close\n",
    "# EXPECT_ISSUE - Flags if data is missing or if extra data exists\n",
    "# MARKET_ISSUE - Checks for duplicate IDs in the marketing schema"
   ]
  },
  {
   "cell_type": "code",
   "execution_count": 10,
   "metadata": {},
   "outputs": [
    {
     "ename": "KeyError",
     "evalue": "'export'",
     "output_type": "error",
     "traceback": [
      "\u001b[0;31m---------------------------------------------------------------------------\u001b[0m",
      "\u001b[0;31mKeyError\u001b[0m                                  Traceback (most recent call last)",
      "\u001b[0;32m<ipython-input-10-02ba4ed35543>\u001b[0m in \u001b[0;36m<module>\u001b[0;34m\u001b[0m\n\u001b[1;32m     15\u001b[0m         )\n\u001b[1;32m     16\u001b[0m \u001b[0;34m\u001b[0m\u001b[0m\n\u001b[0;32m---> 17\u001b[0;31m \u001b[0mresponse\u001b[0m\u001b[0;34m.\u001b[0m\u001b[0mjson\u001b[0m\u001b[0;34m(\u001b[0m\u001b[0;34m)\u001b[0m\u001b[0;34m[\u001b[0m\u001b[0;34m\"export\"\u001b[0m\u001b[0;34m]\u001b[0m\u001b[0;34m[\u001b[0m\u001b[0;34m\"state\"\u001b[0m\u001b[0;34m]\u001b[0m\u001b[0;34m\u001b[0m\u001b[0;34m\u001b[0m\u001b[0m\n\u001b[0m\u001b[1;32m     18\u001b[0m \u001b[0;34m\u001b[0m\u001b[0m\n",
      "\u001b[0;31mKeyError\u001b[0m: 'export'"
     ]
    }
   ],
   "source": [
    "# CHECK ON THE STATUS OF A BULK EXPORT (USE THE ID LISTED IN THE CLOUDWATCH LOGS)\n",
    "headers = {\n",
    "    \"content-type\": \"application/json\",\n",
    "    \"Authorization\": f\"Bearer {p.sftoken}\",\n",
    "    \"Pardot-Business-Unit-Id\": PARDOT_BUSINESS_UNIT_ID,\n",
    "}\n",
    "PARDOT_API_VERSION = 4\n",
    "ID = 4522 #update this\n",
    "PARDOT_URL_API = f\"https://pi.pardot.com/api/export/version/{PARDOT_API_VERSION}/do/read/id/{ID}\"\n",
    "\n",
    "response = requests.get(\n",
    "    PARDOT_URL_API,\n",
    "            headers=headers,\n",
    "            params=((\"format\", \"json\"),),\n",
    "        )\n",
    "\n",
    "response.json()[\"export\"][\"state\"]\n",
    " "
   ]
  },
  {
   "cell_type": "code",
   "execution_count": 25,
   "metadata": {},
   "outputs": [
    {
     "data": {
      "text/plain": "{'@attributes': {'stat': 'ok', 'version': 1},\n 'export': {'id': 5206,\n  'state': 'Waiting',\n  'object': 'prospectAccount',\n  'fields': ['id',\n   'name',\n   'salesforce_id',\n   'created_at',\n   'updated_at',\n   'created_by_id',\n   'updated_by_id',\n   'assigned_to_id',\n   'annual_revenue',\n   'billing_address_one',\n   'billing_address_two',\n   'billing_city',\n   'billing_country',\n   'billing_state',\n   'billing_zip',\n   'description',\n   'employees',\n   'fax',\n   'industry',\n   'number',\n   'ownership',\n   'phone',\n   'rating',\n   'shipping_address_one',\n   'shipping_address_two',\n   'shipping_city',\n   'shipping_country',\n   'shipping_state',\n   'shipping_zip',\n   'sic',\n   'site',\n   'ticker_symbol',\n   'type',\n   'website',\n   'is_archived'],\n  'procedure': {'name': 'filter_by_updated_at',\n   'arguments': {'updated_after': '2022-03-01 00:00:00',\n    'updated_before': '2022-03-02 00:00:00',\n    'deleted': True}},\n  'isExpired': False,\n  'createdAt': '2022-03-09 12:48:34',\n  'updatedAt': '2022-03-09 12:48:34'}}"
     },
     "execution_count": 25,
     "metadata": {},
     "output_type": "execute_result"
    }
   ],
   "source": [
    "# Query for emailstats by list_email_id\n",
    "import json\n",
    "\n",
    "headers = {\n",
    "    \"content-type\": \"application/json\",\n",
    "    \"Authorization\": f\"Bearer {p.sftoken}\",\n",
    "    \"Pardot-Business-Unit-Id\": PARDOT_BUSINESS_UNIT_ID,\n",
    "}\n",
    "\n",
    "PARDOT_API_VERSION = 4\n",
    "\n",
    "updated_after = \"2022-03-01\"\n",
    "updated_before = \"2022-03-02\"\n",
    "delete_flag = True\n",
    "\n",
    "# PARDOT_URL_API = f\"https://pi.pardot.com/api/prospect/version/{PARDOT_API_VERSION}\"\n",
    "PARDOT_URL_API = f\"https://pi.pardot.com/api/export/version/{PARDOT_API_VERSION}\"\n",
    "\n",
    "response_create = requests.post(\n",
    "            f\"{PARDOT_URL_API}/do/create\",\n",
    "            headers=headers,\n",
    "            params=((\"format\", \"json\"),),\n",
    "            data=json.dumps(\n",
    "                {\n",
    "                    \"object\": data_type,\n",
    "                    \"procedure\": {\n",
    "                        \"name\": \"filter_by_updated_at\",\n",
    "                        \"arguments\": {\n",
    "                            \"updated_after\": updated_after,\n",
    "                            \"updated_before\": updated_before,\n",
    "                            **(dict(deleted=True) if delete_flag == True else {})\n",
    "                        },\n",
    "                    },\n",
    "                }\n",
    "            ),\n",
    "        )\n",
    "\n",
    "response_create.json()\n",
    "\n",
    "# - 4,692,616 million active\n",
    "# - 5,582,408 million delete\n",
    "\n",
    "# Default is active 4692616\n",
    " "
   ]
  },
  {
   "cell_type": "code",
   "execution_count": 27,
   "metadata": {},
   "outputs": [
    {
     "data": {
      "text/plain": "'Waiting'"
     },
     "execution_count": 27,
     "metadata": {},
     "output_type": "execute_result"
    }
   ],
   "source": [
    "response_status = requests.get(\n",
    "                    f\"{PARDOT_URL_API}/do/read/id/{response_create.json()['export']['id']}\",\n",
    "                    headers=headers,\n",
    "                    params=((\"format\", \"json\"),),\n",
    "                )\n",
    "response_status.json()[\"export\"][\"state\"]"
   ]
  }
 ],
 "metadata": {
  "kernelspec": {
   "display_name": "Python 3.9.5 64-bit",
   "name": "python395jvsc74a57bd07812ea015bdcee6f23a998adcdd2ef97c151c0c241b7b7070987d9313e41299d"
  },
  "language_info": {
   "codemirror_mode": {
    "name": "ipython",
    "version": 3
   },
   "file_extension": ".py",
   "mimetype": "text/x-python",
   "name": "python",
   "nbconvert_exporter": "python",
   "pygments_lexer": "ipython3",
   "version": "3.9.5"
  },
  "metadata": {
   "interpreter": {
    "hash": "7812ea015bdcee6f23a998adcdd2ef97c151c0c241b7b7070987d9313e41299d"
   }
  },
  "orig_nbformat": 3
 },
 "nbformat": 4,
 "nbformat_minor": 2
}