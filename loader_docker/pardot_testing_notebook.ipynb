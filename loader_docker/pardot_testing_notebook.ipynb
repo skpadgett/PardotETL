{
 "cells": [
  {
   "cell_type": "code",
   "execution_count": 13,
   "metadata": {},
   "outputs": [],
   "source": [
    "import os\n",
    "import io\n",
    "import time\n",
    "import json\n",
    "import datetime as dt\n",
    "import typing\n",
    "import requests\n",
    "\n",
    "import pandas as pd\n",
    "import snowflake.connector\n",
    "from pypardot.client import PardotAPI, PardotAPIError\n",
    "from xml.etree import ElementTree\n",
    "import snowflake.connector\n"
   ]
  },
  {
   "cell_type": "code",
   "execution_count": 14,
   "metadata": {},
   "outputs": [],
   "source": [
    "PARDOT_EMAIL=\"segment_integrations@discoveryed.com\"\n",
    "PARDOT_USER_KEY=\"f5a1dc61d079e35d9a2066a4a8498c32\"\n",
    "PARDOT_SF_CONSUMER_KEY=\"3MVG9IHf89I1t8hpom1l0QzbTANHH.MOASIZ3yPPhu6hFI_uipXiYi7ku85yMWg_2gXxu5bzAyWCevOHp4jrf\"\n",
    "PARDOT_SF_CONSUMER_SECRET=\"BC6C2AA5D41DC0EBBBB3376CD329E92E66BD8D85DF85F9FAB9F22E86D857A29E\"\n",
    "PARDOT_SF_REFRESH_TOKEN=\"5Aep8618yVsldz6rZPMv4ouelrGoRNAfdaLSjo3.ILw4jdNGemJVI_MNYFoNkN9g39GUXqUEgzw3ylEVMjxAU3X\"\n",
    "PARDOT_BUSINESS_UNIT_ID=\"0Uv4P000000TNB0SAO\"\n",
    "PARDOT_API_VERSION=4\n",
    "PARDOT_MAX_RESULT_COUNT = 200\n",
    "SNOWFLAKE_ACCOUNT_IDENTIFIER=\"UK29315.us-east-1\"\n",
    "SNOWFLAKE_USER=\"PardotEtlUser@discoveryed.com\"\n",
    "SNOWFLAKE_PASS=\"p@rd0tEtlUser\""
   ]
  },
  {
   "cell_type": "code",
   "execution_count": 15,
   "metadata": {},
   "outputs": [],
   "source": [
    "SET_DATA_TYPE_CREATED = {\n",
    "    # This set is for the data types that do not have a \"updated_after\" filter,\n",
    "    # and must be queried usng the \"created_after\" filter\n",
    "    \"EmailClick\",\n",
    "    \"TagObject\",\n",
    "}\n"
   ]
  },
  {
   "cell_type": "code",
   "execution_count": 16,
   "metadata": {},
   "outputs": [],
   "source": [
    "def get_client_pardot() -> PardotAPI:\n",
    "    try:\n",
    "        p = PardotAPI(\n",
    "            email=PARDOT_EMAIL,\n",
    "            user_key=PARDOT_USER_KEY,\n",
    "            sf_consumer_key=PARDOT_SF_CONSUMER_KEY,\n",
    "            sf_consumer_secret=PARDOT_SF_CONSUMER_SECRET,\n",
    "            sf_refresh_token=PARDOT_SF_REFRESH_TOKEN,\n",
    "            business_unit_id=PARDOT_BUSINESS_UNIT_ID,\n",
    "            version=PARDOT_API_VERSION,\n",
    "        )\n",
    "\n",
    "        if not p.authenticate():\n",
    "            p.campaigns.query(limit=1)\n",
    "            # ^ Must call query to authenticate if authenticatation is unsuccessful\n",
    "\n",
    "    except PardotAPIError as err:\n",
    "        if err.message in [\n",
    "            \"Error #184: access_token is invalid, unknown, or malformed\",\n",
    "            \"Error #122: Daily API rate limit met\",\n",
    "        ]:\n",
    "            get_session_boto().client(\"sns\").publish(\n",
    "                TargetArn=\"arn:aws:sns:us-east-1:768217030320:test-topic-email-notification\",\n",
    "                Message=f\"PARDOT ERROR: {err.message}\",\n",
    "                # Message=json.dumps({\"default\": json.dumps(message)}),\n",
    "                MessageStructure=\"string\",\n",
    "            )\n",
    "        raise\n",
    "\n",
    "    assert (\n",
    "        p.sftoken != \"dummy\"\n",
    "    ), \"Pardot authentication still unsuccessful after querying\"\n",
    "\n",
    "    return p\n"
   ]
  },
  {
   "cell_type": "code",
   "execution_count": 17,
   "metadata": {},
   "outputs": [],
   "source": [
    "p = get_client_pardot()"
   ]
  },
  {
   "cell_type": "code",
   "execution_count": 18,
   "metadata": {},
   "outputs": [],
   "source": [
    "date_start = dt.date.today() - dt.timedelta(days=1)"
   ]
  },
  {
   "cell_type": "code",
   "execution_count": 19,
   "metadata": {},
   "outputs": [],
   "source": [
    "data_type = 'TagObject'\n",
    "DICT_CONVERSION_PURAL = {\n",
    "    \"Account\": \"accounts\",\n",
    "    \"EmailClick\": \"emailclicks\",\n",
    "    \"Email\": \"emails\",\n",
    "    \"VisitorActivity\": \"visitoractivities\",\n",
    "    \"Campaign\": \"campaigns\",\n",
    "    \"List\": \"lists\",\n",
    "    \"Prospect\": \"prospects\",\n",
    "    \"TagObject\": \"tagobjects\",\n",
    "    \"Tag\": \"tags\",\n",
    "    \"Opportunity\": \"opportunities\",\n",
    "    \"ProspectAccounts\": \"prospectaccounts\",\n",
    "    \"Form\": \"forms\",\n",
    "    \"ListMembership\": \"listmemberships\",\n",
    "    \"Visitor\": \"visitors\",\n",
    "    \"ProspectAccount\": \"prospectaccounts\",\n",
    "}\n",
    "data_client = getattr(p, DICT_CONVERSION_PURAL[data_type])"
   ]
  },
  {
   "cell_type": "code",
   "execution_count": 20,
   "metadata": {},
   "outputs": [
    {
     "data": {
      "text/plain": "True"
     },
     "execution_count": 20,
     "metadata": {},
     "output_type": "execute_result"
    }
   ],
   "source": [
    "hasattr(data_client, \"query\")"
   ]
  },
  {
   "cell_type": "code",
   "execution_count": 10,
   "metadata": {},
   "outputs": [],
   "source": [
    "def helper_to_camelCase(s: str) -> str:\n",
    "    \"Return the same string with the first letter lowercase\"\n",
    "    return str(s[0].lower() + s[1:])\n"
   ]
  },
  {
   "cell_type": "code",
   "execution_count": 27,
   "metadata": {},
   "outputs": [
    {
     "data": {
      "text/plain": "{'total_results': 62974,\n 'tagObject': [{'id': 120097404,\n   'tag_id': 1194704,\n   'type': 'Prospect',\n   'object_id': 52967034,\n   'created_at': '2022-01-27 01:16:35'},\n  {'id': 120097738,\n   'tag_id': 1194704,\n   'type': 'Prospect',\n   'object_id': 23850486,\n   'created_at': '2022-01-27 04:31:38'},\n  {'id': 120097764,\n   'tag_id': 1194704,\n   'type': 'Prospect',\n   'object_id': 18465613,\n   'created_at': '2022-01-27 04:43:59'},\n  {'id': 120099710,\n   'tag_id': 1194704,\n   'type': 'Prospect',\n   'object_id': 52968166,\n   'created_at': '2022-01-27 05:02:45'},\n  {'id': 120100724,\n   'tag_id': 1194704,\n   'type': 'Prospect',\n   'object_id': 39886489,\n   'created_at': '2022-01-27 05:46:34'},\n  {'id': 120100794,\n   'tag_id': 1194292,\n   'type': 'Email Draft',\n   'object_id': 68832,\n   'created_at': '2022-01-27 06:00:12'},\n  {'id': 120100796,\n   'tag_id': 1077864,\n   'type': 'Email Draft',\n   'object_id': 68832,\n   'created_at': '2022-01-27 06:00:12'},\n  {'id': 120100798,\n   'tag_id': 33943,\n   'type': 'Email Draft',\n   'object_id': 68832,\n   'created_at': '2022-01-27 06:00:12'},\n  {'id': 120100806,\n   'tag_id': 33943,\n   'type': 'Email',\n   'object_id': 531064346,\n   'created_at': '2022-01-27 06:00:12'},\n  {'id': 120100808,\n   'tag_id': 1077864,\n   'type': 'Email',\n   'object_id': 531064346,\n   'created_at': '2022-01-27 06:00:12'},\n  {'id': 120100810,\n   'tag_id': 1194292,\n   'type': 'Email',\n   'object_id': 531064346,\n   'created_at': '2022-01-27 06:00:12'},\n  {'id': 120100870,\n   'tag_id': 1194704,\n   'type': 'Prospect',\n   'object_id': 52969462,\n   'created_at': '2022-01-27 06:18:32'},\n  {'id': 120100872,\n   'tag_id': 1010354,\n   'type': 'Prospect',\n   'object_id': 52969462,\n   'created_at': '2022-01-27 06:18:32'},\n  {'id': 120100910,\n   'tag_id': 1178506,\n   'type': 'Prospect',\n   'object_id': 26060424,\n   'created_at': '2022-01-27 06:25:43'},\n  {'id': 120100912,\n   'tag_id': 1178506,\n   'type': 'Prospect',\n   'object_id': 49936234,\n   'created_at': '2022-01-27 06:25:43'},\n  {'id': 120100914,\n   'tag_id': 1178506,\n   'type': 'Prospect',\n   'object_id': 52542358,\n   'created_at': '2022-01-27 06:25:43'},\n  {'id': 120100916,\n   'tag_id': 33943,\n   'type': 'Prospect',\n   'object_id': 52542358,\n   'created_at': '2022-01-27 06:25:43'},\n  {'id': 120100918,\n   'tag_id': 1178506,\n   'type': 'Prospect',\n   'object_id': 52969592,\n   'created_at': '2022-01-27 06:25:43'},\n  {'id': 120100920,\n   'tag_id': 33943,\n   'type': 'Prospect',\n   'object_id': 52969592,\n   'created_at': '2022-01-27 06:25:43'},\n  {'id': 120102050,\n   'tag_id': 1194704,\n   'type': 'Prospect',\n   'object_id': 52972728,\n   'created_at': '2022-01-27 07:22:39'},\n  {'id': 120102052,\n   'tag_id': 1194704,\n   'type': 'Prospect',\n   'object_id': 27983432,\n   'created_at': '2022-01-27 07:23:34'},\n  {'id': 120102258,\n   'tag_id': 1194704,\n   'type': 'Prospect',\n   'object_id': 52974102,\n   'created_at': '2022-01-27 08:03:56'},\n  {'id': 120102300,\n   'tag_id': 1194704,\n   'type': 'Prospect',\n   'object_id': 32478089,\n   'created_at': '2022-01-27 08:14:13'},\n  {'id': 120102382,\n   'tag_id': 1194704,\n   'type': 'Prospect',\n   'object_id': 45253385,\n   'created_at': '2022-01-27 08:35:06'},\n  {'id': 120102458,\n   'tag_id': 523618,\n   'type': 'List',\n   'object_id': 62982,\n   'created_at': '2022-01-27 08:51:44'},\n  {'id': 120102460,\n   'tag_id': 33945,\n   'type': 'List',\n   'object_id': 62982,\n   'created_at': '2022-01-27 08:51:44'},\n  {'id': 120102462,\n   'tag_id': 33943,\n   'type': 'List',\n   'object_id': 62982,\n   'created_at': '2022-01-27 08:51:44'},\n  {'id': 120102522,\n   'tag_id': 1194704,\n   'type': 'Prospect',\n   'object_id': 39346873,\n   'created_at': '2022-01-27 09:01:37'},\n  {'id': 120102544,\n   'tag_id': 523618,\n   'type': 'Prospect',\n   'object_id': 26708602,\n   'created_at': '2022-01-27 09:08:38'},\n  {'id': 120102546,\n   'tag_id': 33945,\n   'type': 'Prospect',\n   'object_id': 26708602,\n   'created_at': '2022-01-27 09:08:38'},\n  {'id': 120102548,\n   'tag_id': 33943,\n   'type': 'Prospect',\n   'object_id': 26708602,\n   'created_at': '2022-01-27 09:08:38'},\n  {'id': 120102550,\n   'tag_id': 523618,\n   'type': 'Prospect',\n   'object_id': 52577392,\n   'created_at': '2022-01-27 09:08:38'},\n  {'id': 120102552,\n   'tag_id': 33945,\n   'type': 'Prospect',\n   'object_id': 52577392,\n   'created_at': '2022-01-27 09:08:38'},\n  {'id': 120102554,\n   'tag_id': 33943,\n   'type': 'Prospect',\n   'object_id': 52577392,\n   'created_at': '2022-01-27 09:08:38'},\n  {'id': 120102556,\n   'tag_id': 523618,\n   'type': 'Prospect',\n   'object_id': 52577414,\n   'created_at': '2022-01-27 09:08:38'},\n  {'id': 120102558,\n   'tag_id': 33945,\n   'type': 'Prospect',\n   'object_id': 52577414,\n   'created_at': '2022-01-27 09:08:38'},\n  {'id': 120102560,\n   'tag_id': 33943,\n   'type': 'Prospect',\n   'object_id': 52577414,\n   'created_at': '2022-01-27 09:08:38'},\n  {'id': 120102562,\n   'tag_id': 523618,\n   'type': 'Prospect',\n   'object_id': 28296669,\n   'created_at': '2022-01-27 09:08:38'},\n  {'id': 120102564,\n   'tag_id': 33945,\n   'type': 'Prospect',\n   'object_id': 28296669,\n   'created_at': '2022-01-27 09:08:38'},\n  {'id': 120102566,\n   'tag_id': 33943,\n   'type': 'Prospect',\n   'object_id': 28296669,\n   'created_at': '2022-01-27 09:08:38'},\n  {'id': 120102568,\n   'tag_id': 523618,\n   'type': 'Prospect',\n   'object_id': 51588307,\n   'created_at': '2022-01-27 09:08:38'},\n  {'id': 120102570,\n   'tag_id': 33945,\n   'type': 'Prospect',\n   'object_id': 51588307,\n   'created_at': '2022-01-27 09:08:38'},\n  {'id': 120102572,\n   'tag_id': 33943,\n   'type': 'Prospect',\n   'object_id': 51588307,\n   'created_at': '2022-01-27 09:08:38'},\n  {'id': 120102574,\n   'tag_id': 523618,\n   'type': 'Prospect',\n   'object_id': 28296679,\n   'created_at': '2022-01-27 09:08:38'},\n  {'id': 120102576,\n   'tag_id': 33945,\n   'type': 'Prospect',\n   'object_id': 28296679,\n   'created_at': '2022-01-27 09:08:38'},\n  {'id': 120102578,\n   'tag_id': 33943,\n   'type': 'Prospect',\n   'object_id': 28296679,\n   'created_at': '2022-01-27 09:08:38'},\n  {'id': 120102580,\n   'tag_id': 523618,\n   'type': 'Prospect',\n   'object_id': 39585579,\n   'created_at': '2022-01-27 09:08:38'},\n  {'id': 120102582,\n   'tag_id': 33945,\n   'type': 'Prospect',\n   'object_id': 39585579,\n   'created_at': '2022-01-27 09:08:38'},\n  {'id': 120102584,\n   'tag_id': 33943,\n   'type': 'Prospect',\n   'object_id': 39585579,\n   'created_at': '2022-01-27 09:08:38'},\n  {'id': 120102586,\n   'tag_id': 523618,\n   'type': 'Prospect',\n   'object_id': 24089556,\n   'created_at': '2022-01-27 09:08:38'},\n  {'id': 120102588,\n   'tag_id': 33945,\n   'type': 'Prospect',\n   'object_id': 24089556,\n   'created_at': '2022-01-27 09:08:38'},\n  {'id': 120102590,\n   'tag_id': 33943,\n   'type': 'Prospect',\n   'object_id': 24089556,\n   'created_at': '2022-01-27 09:08:38'},\n  {'id': 120102592,\n   'tag_id': 33945,\n   'type': 'Prospect',\n   'object_id': 45261499,\n   'created_at': '2022-01-27 09:08:38'},\n  {'id': 120102594,\n   'tag_id': 523618,\n   'type': 'Prospect',\n   'object_id': 22383974,\n   'created_at': '2022-01-27 09:08:38'},\n  {'id': 120102596,\n   'tag_id': 33945,\n   'type': 'Prospect',\n   'object_id': 22383974,\n   'created_at': '2022-01-27 09:08:38'},\n  {'id': 120102598,\n   'tag_id': 33943,\n   'type': 'Prospect',\n   'object_id': 22383974,\n   'created_at': '2022-01-27 09:08:38'},\n  {'id': 120102600,\n   'tag_id': 523618,\n   'type': 'Prospect',\n   'object_id': 44337055,\n   'created_at': '2022-01-27 09:08:38'},\n  {'id': 120102602,\n   'tag_id': 33945,\n   'type': 'Prospect',\n   'object_id': 44337055,\n   'created_at': '2022-01-27 09:08:38'},\n  {'id': 120102604,\n   'tag_id': 33943,\n   'type': 'Prospect',\n   'object_id': 44337055,\n   'created_at': '2022-01-27 09:08:38'},\n  {'id': 120102606,\n   'tag_id': 523618,\n   'type': 'Prospect',\n   'object_id': 22383396,\n   'created_at': '2022-01-27 09:08:38'},\n  {'id': 120102608,\n   'tag_id': 33945,\n   'type': 'Prospect',\n   'object_id': 22383396,\n   'created_at': '2022-01-27 09:08:38'},\n  {'id': 120102610,\n   'tag_id': 33943,\n   'type': 'Prospect',\n   'object_id': 22383396,\n   'created_at': '2022-01-27 09:08:38'},\n  {'id': 120102612,\n   'tag_id': 523618,\n   'type': 'Prospect',\n   'object_id': 34880255,\n   'created_at': '2022-01-27 09:08:38'},\n  {'id': 120102614,\n   'tag_id': 33945,\n   'type': 'Prospect',\n   'object_id': 34880255,\n   'created_at': '2022-01-27 09:08:38'},\n  {'id': 120102616,\n   'tag_id': 33943,\n   'type': 'Prospect',\n   'object_id': 34880255,\n   'created_at': '2022-01-27 09:08:38'},\n  {'id': 120102618,\n   'tag_id': 523618,\n   'type': 'Prospect',\n   'object_id': 44337061,\n   'created_at': '2022-01-27 09:08:38'},\n  {'id': 120102620,\n   'tag_id': 33945,\n   'type': 'Prospect',\n   'object_id': 44337061,\n   'created_at': '2022-01-27 09:08:38'},\n  {'id': 120102622,\n   'tag_id': 523618,\n   'type': 'Prospect',\n   'object_id': 49868568,\n   'created_at': '2022-01-27 09:08:38'},\n  {'id': 120102624,\n   'tag_id': 33943,\n   'type': 'Prospect',\n   'object_id': 49868568,\n   'created_at': '2022-01-27 09:08:38'},\n  {'id': 120102626,\n   'tag_id': 523618,\n   'type': 'Prospect',\n   'object_id': 52975506,\n   'created_at': '2022-01-27 09:08:38'},\n  {'id': 120102628,\n   'tag_id': 33945,\n   'type': 'Prospect',\n   'object_id': 52975506,\n   'created_at': '2022-01-27 09:08:38'},\n  {'id': 120102630,\n   'tag_id': 33943,\n   'type': 'Prospect',\n   'object_id': 52975506,\n   'created_at': '2022-01-27 09:08:38'},\n  {'id': 120102632,\n   'tag_id': 523618,\n   'type': 'Prospect',\n   'object_id': 52975508,\n   'created_at': '2022-01-27 09:08:38'},\n  {'id': 120102634,\n   'tag_id': 33945,\n   'type': 'Prospect',\n   'object_id': 52975508,\n   'created_at': '2022-01-27 09:08:38'},\n  {'id': 120102636,\n   'tag_id': 33943,\n   'type': 'Prospect',\n   'object_id': 52975508,\n   'created_at': '2022-01-27 09:08:38'},\n  {'id': 120102638,\n   'tag_id': 523618,\n   'type': 'Prospect',\n   'object_id': 52975510,\n   'created_at': '2022-01-27 09:08:38'},\n  {'id': 120102640,\n   'tag_id': 33945,\n   'type': 'Prospect',\n   'object_id': 52975510,\n   'created_at': '2022-01-27 09:08:38'},\n  {'id': 120102642,\n   'tag_id': 33943,\n   'type': 'Prospect',\n   'object_id': 52975510,\n   'created_at': '2022-01-27 09:08:38'},\n  {'id': 120102644,\n   'tag_id': 523618,\n   'type': 'Prospect',\n   'object_id': 52975512,\n   'created_at': '2022-01-27 09:08:38'},\n  {'id': 120102646,\n   'tag_id': 33945,\n   'type': 'Prospect',\n   'object_id': 52975512,\n   'created_at': '2022-01-27 09:08:38'},\n  {'id': 120102648,\n   'tag_id': 33943,\n   'type': 'Prospect',\n   'object_id': 52975512,\n   'created_at': '2022-01-27 09:08:38'},\n  {'id': 120102650,\n   'tag_id': 523618,\n   'type': 'Prospect',\n   'object_id': 52975514,\n   'created_at': '2022-01-27 09:08:38'},\n  {'id': 120102652,\n   'tag_id': 33945,\n   'type': 'Prospect',\n   'object_id': 52975514,\n   'created_at': '2022-01-27 09:08:38'},\n  {'id': 120102654,\n   'tag_id': 33943,\n   'type': 'Prospect',\n   'object_id': 52975514,\n   'created_at': '2022-01-27 09:08:38'},\n  {'id': 120102656,\n   'tag_id': 523618,\n   'type': 'Prospect',\n   'object_id': 52975516,\n   'created_at': '2022-01-27 09:08:38'},\n  {'id': 120102658,\n   'tag_id': 33945,\n   'type': 'Prospect',\n   'object_id': 52975516,\n   'created_at': '2022-01-27 09:08:38'},\n  {'id': 120102660,\n   'tag_id': 33943,\n   'type': 'Prospect',\n   'object_id': 52975516,\n   'created_at': '2022-01-27 09:08:38'},\n  {'id': 120103144,\n   'tag_id': 33945,\n   'type': 'Prospect',\n   'object_id': 28337179,\n   'created_at': '2022-01-27 09:08:39'},\n  {'id': 120103146,\n   'tag_id': 523618,\n   'type': 'Prospect',\n   'object_id': 28389315,\n   'created_at': '2022-01-27 09:08:39'},\n  {'id': 120103148,\n   'tag_id': 33945,\n   'type': 'Prospect',\n   'object_id': 28389315,\n   'created_at': '2022-01-27 09:08:39'},\n  {'id': 120103150,\n   'tag_id': 33943,\n   'type': 'Prospect',\n   'object_id': 28389315,\n   'created_at': '2022-01-27 09:08:39'},\n  {'id': 120103152,\n   'tag_id': 523618,\n   'type': 'Prospect',\n   'object_id': 22969976,\n   'created_at': '2022-01-27 09:08:39'},\n  {'id': 120103154,\n   'tag_id': 33945,\n   'type': 'Prospect',\n   'object_id': 22969976,\n   'created_at': '2022-01-27 09:08:39'},\n  {'id': 120103156,\n   'tag_id': 33943,\n   'type': 'Prospect',\n   'object_id': 22969976,\n   'created_at': '2022-01-27 09:08:39'},\n  {'id': 120103158,\n   'tag_id': 523618,\n   'type': 'Prospect',\n   'object_id': 28346997,\n   'created_at': '2022-01-27 09:08:39'},\n  {'id': 120103160,\n   'tag_id': 33945,\n   'type': 'Prospect',\n   'object_id': 28346997,\n   'created_at': '2022-01-27 09:08:39'},\n  {'id': 120103162,\n   'tag_id': 33943,\n   'type': 'Prospect',\n   'object_id': 28346997,\n   'created_at': '2022-01-27 09:08:39'},\n  {'id': 120103164,\n   'tag_id': 523618,\n   'type': 'Prospect',\n   'object_id': 28347007,\n   'created_at': '2022-01-27 09:08:39'},\n  {'id': 120103166,\n   'tag_id': 33945,\n   'type': 'Prospect',\n   'object_id': 28347007,\n   'created_at': '2022-01-27 09:08:39'},\n  {'id': 120103168,\n   'tag_id': 33943,\n   'type': 'Prospect',\n   'object_id': 28347007,\n   'created_at': '2022-01-27 09:08:39'},\n  {'id': 120103170,\n   'tag_id': 523618,\n   'type': 'Prospect',\n   'object_id': 28348267,\n   'created_at': '2022-01-27 09:08:39'},\n  {'id': 120103172,\n   'tag_id': 33945,\n   'type': 'Prospect',\n   'object_id': 28348267,\n   'created_at': '2022-01-27 09:08:39'},\n  {'id': 120103174,\n   'tag_id': 33943,\n   'type': 'Prospect',\n   'object_id': 28348267,\n   'created_at': '2022-01-27 09:08:39'},\n  {'id': 120103176,\n   'tag_id': 523618,\n   'type': 'Prospect',\n   'object_id': 28348317,\n   'created_at': '2022-01-27 09:08:39'},\n  {'id': 120103178,\n   'tag_id': 33945,\n   'type': 'Prospect',\n   'object_id': 28348317,\n   'created_at': '2022-01-27 09:08:39'},\n  {'id': 120103180,\n   'tag_id': 33943,\n   'type': 'Prospect',\n   'object_id': 28348317,\n   'created_at': '2022-01-27 09:08:39'},\n  {'id': 120103182,\n   'tag_id': 523618,\n   'type': 'Prospect',\n   'object_id': 28348335,\n   'created_at': '2022-01-27 09:08:39'},\n  {'id': 120103184,\n   'tag_id': 33945,\n   'type': 'Prospect',\n   'object_id': 28348335,\n   'created_at': '2022-01-27 09:08:39'},\n  {'id': 120103186,\n   'tag_id': 33943,\n   'type': 'Prospect',\n   'object_id': 28348335,\n   'created_at': '2022-01-27 09:08:39'},\n  {'id': 120103188,\n   'tag_id': 523618,\n   'type': 'Prospect',\n   'object_id': 50922341,\n   'created_at': '2022-01-27 09:08:39'},\n  {'id': 120103190,\n   'tag_id': 33943,\n   'type': 'Prospect',\n   'object_id': 50922341,\n   'created_at': '2022-01-27 09:08:39'},\n  {'id': 120103192,\n   'tag_id': 523618,\n   'type': 'Prospect',\n   'object_id': 51928709,\n   'created_at': '2022-01-27 09:08:39'},\n  {'id': 120103194,\n   'tag_id': 33945,\n   'type': 'Prospect',\n   'object_id': 51928709,\n   'created_at': '2022-01-27 09:08:39'},\n  {'id': 120103196,\n   'tag_id': 33943,\n   'type': 'Prospect',\n   'object_id': 51928709,\n   'created_at': '2022-01-27 09:08:39'},\n  {'id': 120103198,\n   'tag_id': 523618,\n   'type': 'Prospect',\n   'object_id': 26206400,\n   'created_at': '2022-01-27 09:08:39'},\n  {'id': 120103200,\n   'tag_id': 33945,\n   'type': 'Prospect',\n   'object_id': 26206400,\n   'created_at': '2022-01-27 09:08:39'},\n  {'id': 120103202,\n   'tag_id': 33943,\n   'type': 'Prospect',\n   'object_id': 26206400,\n   'created_at': '2022-01-27 09:08:39'},\n  {'id': 120103204,\n   'tag_id': 523618,\n   'type': 'Prospect',\n   'object_id': 50922345,\n   'created_at': '2022-01-27 09:08:39'},\n  {'id': 120103206,\n   'tag_id': 33943,\n   'type': 'Prospect',\n   'object_id': 50922345,\n   'created_at': '2022-01-27 09:08:39'},\n  {'id': 120103208,\n   'tag_id': 523618,\n   'type': 'Prospect',\n   'object_id': 51588225,\n   'created_at': '2022-01-27 09:08:39'},\n  {'id': 120103210,\n   'tag_id': 33945,\n   'type': 'Prospect',\n   'object_id': 51588225,\n   'created_at': '2022-01-27 09:08:39'},\n  {'id': 120103212,\n   'tag_id': 33943,\n   'type': 'Prospect',\n   'object_id': 51588225,\n   'created_at': '2022-01-27 09:08:39'},\n  {'id': 120103214,\n   'tag_id': 523618,\n   'type': 'Prospect',\n   'object_id': 50922347,\n   'created_at': '2022-01-27 09:08:39'},\n  {'id': 120103216,\n   'tag_id': 33943,\n   'type': 'Prospect',\n   'object_id': 50922347,\n   'created_at': '2022-01-27 09:08:39'},\n  {'id': 120103218,\n   'tag_id': 523618,\n   'type': 'Prospect',\n   'object_id': 28372703,\n   'created_at': '2022-01-27 09:08:39'},\n  {'id': 120103220,\n   'tag_id': 33945,\n   'type': 'Prospect',\n   'object_id': 28372703,\n   'created_at': '2022-01-27 09:08:39'},\n  {'id': 120103222,\n   'tag_id': 523618,\n   'type': 'Prospect',\n   'object_id': 24188212,\n   'created_at': '2022-01-27 09:08:39'},\n  {'id': 120103224,\n   'tag_id': 33945,\n   'type': 'Prospect',\n   'object_id': 24188212,\n   'created_at': '2022-01-27 09:08:39'},\n  {'id': 120103226,\n   'tag_id': 33943,\n   'type': 'Prospect',\n   'object_id': 24188212,\n   'created_at': '2022-01-27 09:08:39'},\n  {'id': 120103228,\n   'tag_id': 523618,\n   'type': 'Prospect',\n   'object_id': 51928749,\n   'created_at': '2022-01-27 09:08:39'},\n  {'id': 120103230,\n   'tag_id': 33945,\n   'type': 'Prospect',\n   'object_id': 51928749,\n   'created_at': '2022-01-27 09:08:39'},\n  {'id': 120103232,\n   'tag_id': 33943,\n   'type': 'Prospect',\n   'object_id': 51928749,\n   'created_at': '2022-01-27 09:08:39'},\n  {'id': 120103234,\n   'tag_id': 523618,\n   'type': 'Prospect',\n   'object_id': 28391157,\n   'created_at': '2022-01-27 09:08:39'},\n  {'id': 120103236,\n   'tag_id': 33945,\n   'type': 'Prospect',\n   'object_id': 28391157,\n   'created_at': '2022-01-27 09:08:39'},\n  {'id': 120103238,\n   'tag_id': 33943,\n   'type': 'Prospect',\n   'object_id': 28391157,\n   'created_at': '2022-01-27 09:08:39'},\n  {'id': 120103240,\n   'tag_id': 523618,\n   'type': 'Prospect',\n   'object_id': 28337289,\n   'created_at': '2022-01-27 09:08:39'},\n  {'id': 120103242,\n   'tag_id': 33945,\n   'type': 'Prospect',\n   'object_id': 28337289,\n   'created_at': '2022-01-27 09:08:39'},\n  {'id': 120103244,\n   'tag_id': 33943,\n   'type': 'Prospect',\n   'object_id': 28337289,\n   'created_at': '2022-01-27 09:08:39'},\n  {'id': 120103246,\n   'tag_id': 523618,\n   'type': 'Prospect',\n   'object_id': 22951650,\n   'created_at': '2022-01-27 09:08:39'},\n  {'id': 120103248,\n   'tag_id': 33945,\n   'type': 'Prospect',\n   'object_id': 22951650,\n   'created_at': '2022-01-27 09:08:39'},\n  {'id': 120103250,\n   'tag_id': 33943,\n   'type': 'Prospect',\n   'object_id': 22951650,\n   'created_at': '2022-01-27 09:08:39'},\n  {'id': 120103252,\n   'tag_id': 523618,\n   'type': 'Prospect',\n   'object_id': 22972198,\n   'created_at': '2022-01-27 09:08:39'},\n  {'id': 120103254,\n   'tag_id': 33945,\n   'type': 'Prospect',\n   'object_id': 22972198,\n   'created_at': '2022-01-27 09:08:39'},\n  {'id': 120103256,\n   'tag_id': 33943,\n   'type': 'Prospect',\n   'object_id': 22972198,\n   'created_at': '2022-01-27 09:08:39'},\n  {'id': 120103258,\n   'tag_id': 523618,\n   'type': 'Prospect',\n   'object_id': 28335063,\n   'created_at': '2022-01-27 09:08:39'},\n  {'id': 120103260,\n   'tag_id': 33945,\n   'type': 'Prospect',\n   'object_id': 28335063,\n   'created_at': '2022-01-27 09:08:39'},\n  {'id': 120103262,\n   'tag_id': 33943,\n   'type': 'Prospect',\n   'object_id': 28335063,\n   'created_at': '2022-01-27 09:08:39'},\n  {'id': 120103264,\n   'tag_id': 523618,\n   'type': 'Prospect',\n   'object_id': 28379687,\n   'created_at': '2022-01-27 09:08:39'},\n  {'id': 120103266,\n   'tag_id': 33945,\n   'type': 'Prospect',\n   'object_id': 28379687,\n   'created_at': '2022-01-27 09:08:39'},\n  {'id': 120103268,\n   'tag_id': 33943,\n   'type': 'Prospect',\n   'object_id': 28379687,\n   'created_at': '2022-01-27 09:08:39'},\n  {'id': 120103270,\n   'tag_id': 523618,\n   'type': 'Prospect',\n   'object_id': 28378719,\n   'created_at': '2022-01-27 09:08:39'},\n  {'id': 120103272,\n   'tag_id': 33945,\n   'type': 'Prospect',\n   'object_id': 28378719,\n   'created_at': '2022-01-27 09:08:39'},\n  {'id': 120103274,\n   'tag_id': 33943,\n   'type': 'Prospect',\n   'object_id': 28378719,\n   'created_at': '2022-01-27 09:08:39'},\n  {'id': 120103276,\n   'tag_id': 523618,\n   'type': 'Prospect',\n   'object_id': 26399266,\n   'created_at': '2022-01-27 09:08:39'},\n  {'id': 120103278,\n   'tag_id': 33945,\n   'type': 'Prospect',\n   'object_id': 26399266,\n   'created_at': '2022-01-27 09:08:39'},\n  {'id': 120103280,\n   'tag_id': 33943,\n   'type': 'Prospect',\n   'object_id': 26399266,\n   'created_at': '2022-01-27 09:08:39'},\n  {'id': 120103282,\n   'tag_id': 523618,\n   'type': 'Prospect',\n   'object_id': 22817292,\n   'created_at': '2022-01-27 09:08:39'},\n  {'id': 120103284,\n   'tag_id': 33945,\n   'type': 'Prospect',\n   'object_id': 22817292,\n   'created_at': '2022-01-27 09:08:39'},\n  {'id': 120103286,\n   'tag_id': 33943,\n   'type': 'Prospect',\n   'object_id': 22817292,\n   'created_at': '2022-01-27 09:08:39'},\n  {'id': 120103288,\n   'tag_id': 33945,\n   'type': 'Prospect',\n   'object_id': 28365337,\n   'created_at': '2022-01-27 09:08:39'},\n  {'id': 120103290,\n   'tag_id': 523618,\n   'type': 'Prospect',\n   'object_id': 52975518,\n   'created_at': '2022-01-27 09:08:39'},\n  {'id': 120103292,\n   'tag_id': 33945,\n   'type': 'Prospect',\n   'object_id': 52975518,\n   'created_at': '2022-01-27 09:08:39'},\n  {'id': 120103294,\n   'tag_id': 33943,\n   'type': 'Prospect',\n   'object_id': 52975518,\n   'created_at': '2022-01-27 09:08:39'},\n  {'id': 120103748,\n   'tag_id': 523618,\n   'type': 'Prospect',\n   'object_id': 22888302,\n   'created_at': '2022-01-27 09:08:40'},\n  {'id': 120103750,\n   'tag_id': 33945,\n   'type': 'Prospect',\n   'object_id': 22888302,\n   'created_at': '2022-01-27 09:08:40'},\n  {'id': 120103752,\n   'tag_id': 33943,\n   'type': 'Prospect',\n   'object_id': 22888302,\n   'created_at': '2022-01-27 09:08:40'},\n  {'id': 120103754,\n   'tag_id': 523618,\n   'type': 'Prospect',\n   'object_id': 45260895,\n   'created_at': '2022-01-27 09:08:40'},\n  {'id': 120103756,\n   'tag_id': 33945,\n   'type': 'Prospect',\n   'object_id': 45260895,\n   'created_at': '2022-01-27 09:08:40'},\n  {'id': 120103758,\n   'tag_id': 33943,\n   'type': 'Prospect',\n   'object_id': 45260895,\n   'created_at': '2022-01-27 09:08:40'},\n  {'id': 120103760,\n   'tag_id': 523618,\n   'type': 'Prospect',\n   'object_id': 22383116,\n   'created_at': '2022-01-27 09:08:40'},\n  {'id': 120103762,\n   'tag_id': 33945,\n   'type': 'Prospect',\n   'object_id': 22383116,\n   'created_at': '2022-01-27 09:08:40'},\n  {'id': 120103764,\n   'tag_id': 33943,\n   'type': 'Prospect',\n   'object_id': 22383116,\n   'created_at': '2022-01-27 09:08:40'},\n  {'id': 120103766,\n   'tag_id': 523618,\n   'type': 'Prospect',\n   'object_id': 52577044,\n   'created_at': '2022-01-27 09:08:40'},\n  {'id': 120103768,\n   'tag_id': 33945,\n   'type': 'Prospect',\n   'object_id': 52577044,\n   'created_at': '2022-01-27 09:08:40'},\n  {'id': 120103770,\n   'tag_id': 33943,\n   'type': 'Prospect',\n   'object_id': 52577044,\n   'created_at': '2022-01-27 09:08:40'},\n  {'id': 120103772,\n   'tag_id': 523618,\n   'type': 'Prospect',\n   'object_id': 38265421,\n   'created_at': '2022-01-27 09:08:40'},\n  {'id': 120103774,\n   'tag_id': 33945,\n   'type': 'Prospect',\n   'object_id': 38265421,\n   'created_at': '2022-01-27 09:08:40'},\n  {'id': 120103776,\n   'tag_id': 33943,\n   'type': 'Prospect',\n   'object_id': 38265421,\n   'created_at': '2022-01-27 09:08:40'},\n  {'id': 120103778,\n   'tag_id': 33943,\n   'type': 'Prospect',\n   'object_id': 41647758,\n   'created_at': '2022-01-27 09:08:40'},\n  {'id': 120103780,\n   'tag_id': 523618,\n   'type': 'Prospect',\n   'object_id': 26708600,\n   'created_at': '2022-01-27 09:08:40'},\n  {'id': 120103782,\n   'tag_id': 33945,\n   'type': 'Prospect',\n   'object_id': 26708600,\n   'created_at': '2022-01-27 09:08:40'},\n  {'id': 120103784,\n   'tag_id': 33943,\n   'type': 'Prospect',\n   'object_id': 26708600,\n   'created_at': '2022-01-27 09:08:40'},\n  {'id': 120103786,\n   'tag_id': 523618,\n   'type': 'Prospect',\n   'object_id': 38280841,\n   'created_at': '2022-01-27 09:08:40'},\n  {'id': 120103788,\n   'tag_id': 33945,\n   'type': 'Prospect',\n   'object_id': 38280841,\n   'created_at': '2022-01-27 09:08:40'},\n  {'id': 120103790,\n   'tag_id': 33943,\n   'type': 'Prospect',\n   'object_id': 38280841,\n   'created_at': '2022-01-27 09:08:40'},\n  {'id': 120103792,\n   'tag_id': 523618,\n   'type': 'Prospect',\n   'object_id': 52577556,\n   'created_at': '2022-01-27 09:08:40'},\n  {'id': 120103794,\n   'tag_id': 33945,\n   'type': 'Prospect',\n   'object_id': 52577556,\n   'created_at': '2022-01-27 09:08:40'},\n  {'id': 120103796,\n   'tag_id': 33943,\n   'type': 'Prospect',\n   'object_id': 52577556,\n   'created_at': '2022-01-27 09:08:40'},\n  {'id': 120103798,\n   'tag_id': 523618,\n   'type': 'Prospect',\n   'object_id': 38281703,\n   'created_at': '2022-01-27 09:08:40'},\n  {'id': 120103800,\n   'tag_id': 33945,\n   'type': 'Prospect',\n   'object_id': 38281703,\n   'created_at': '2022-01-27 09:08:40'},\n  {'id': 120103802,\n   'tag_id': 33943,\n   'type': 'Prospect',\n   'object_id': 38281703,\n   'created_at': '2022-01-27 09:08:40'},\n  {'id': 120103804,\n   'tag_id': 523618,\n   'type': 'Prospect',\n   'object_id': 26708558,\n   'created_at': '2022-01-27 09:08:40'},\n  {'id': 120103806,\n   'tag_id': 33945,\n   'type': 'Prospect',\n   'object_id': 26708558,\n   'created_at': '2022-01-27 09:08:40'},\n  {'id': 120103808,\n   'tag_id': 33943,\n   'type': 'Prospect',\n   'object_id': 26708558,\n   'created_at': '2022-01-27 09:08:40'},\n  {'id': 120103810,\n   'tag_id': 523618,\n   'type': 'Prospect',\n   'object_id': 37470565,\n   'created_at': '2022-01-27 09:08:40'},\n  {'id': 120103812,\n   'tag_id': 33945,\n   'type': 'Prospect',\n   'object_id': 37470565,\n   'created_at': '2022-01-27 09:08:40'},\n  {'id': 120103814,\n   'tag_id': 33943,\n   'type': 'Prospect',\n   'object_id': 37470565,\n   'created_at': '2022-01-27 09:08:40'},\n  {'id': 120103816,\n   'tag_id': 523618,\n   'type': 'Prospect',\n   'object_id': 37470589,\n   'created_at': '2022-01-27 09:08:40'},\n  {'id': 120103818,\n   'tag_id': 33945,\n   'type': 'Prospect',\n   'object_id': 37470589,\n   'created_at': '2022-01-27 09:08:40'},\n  {'id': 120103820,\n   'tag_id': 33943,\n   'type': 'Prospect',\n   'object_id': 37470589,\n   'created_at': '2022-01-27 09:08:40'}]}"
     },
     "execution_count": 26,
     "metadata": {},
     "output_type": "execute_result"
    }
   ],
   "source": [
    "id_max = 0\n",
    "data_raw = data_client.query(\n",
    "                format=\"json\",\n",
    "                sort_by=\"id\",\n",
    "                id_greater_than=id_max,\n",
    "                updated_after=date_start.isoformat(),\n",
    "                **(\n",
    "                    dict(created_after=date_start.isoformat())\n",
    "                    if data_type in SET_DATA_TYPE_CREATED\n",
    "                    else {}\n",
    "                ),\n",
    "            )"
   ]
  },
  {
   "cell_type": "code",
   "execution_count": 3,
   "metadata": {},
   "outputs": [],
   "source": [
    "def get_client_snowflake():\n",
    "    return snowflake.connector.connect(\n",
    "        user=SNOWFLAKE_USER,\n",
    "        password=SNOWFLAKE_PASS,\n",
    "        account=SNOWFLAKE_ACCOUNT_IDENTIFIER,\n",
    "        # authenticator=\"externalbrowser\",\n",
    "        warehouse=\"GENERAL_COMPUTE_WH\",\n",
    "        database=\"DEV_DATA_VAULT\",\n",
    "        schema=\"STAGE\",\n",
    "    )"
   ]
  },
  {
   "cell_type": "code",
   "execution_count": 12,
   "metadata": {},
   "outputs": [],
   "source": [
    "ctx = get_client_snowflake()\n",
    "cs = ctx.cursor()\n",
    "\n",
    "#TODO, update when email table exists\n",
    "snowflake_query = \"\"\"select \n",
    "    a.list_email_id, min(a.email_id) \n",
    "    from dev_data_vault.marketing.visitor_activity a\n",
    "    join (select distinct list_email_id from dev_data_vault.marketing.email) b\n",
    "    on a.list_email_id = b.list_email_id\n",
    "    where a.email_id is not null and a.list_email_id is not null \n",
    "    And b.list_email_id is null\n",
    "    group by a.list_email_id\n",
    "\"\"\"\n",
    "\n",
    "snowflake_query_2 = \"\"\"select \n",
    "    a.list_email_id, min(a.email_id)\n",
    "    from dev_data_vault.marketing.visitor_activity a\n",
    "    where a.email_id is not null and a.list_email_id is not null \n",
    "    group by a.list_email_id\n",
    "\"\"\"\n",
    "\n",
    "try:\n",
    "    cs.execute(snowflake_query)\n",
    "    missing_ids =  cs.fetchall()\n",
    "except:\n",
    "    cs.execute(snowflake_query_2)\n",
    "    missing_ids =  cs.fetchall()   \n",
    "finally:\n",
    "    cs.close()\n",
    "ctx.close()\n",
    "\n",
    "missing"
   ]
  }
 ],
 "metadata": {
  "kernelspec": {
   "display_name": "Python 3.9.5 64-bit",
   "name": "python395jvsc74a57bd07812ea015bdcee6f23a998adcdd2ef97c151c0c241b7b7070987d9313e41299d"
  },
  "language_info": {
   "codemirror_mode": {
    "name": "ipython",
    "version": 3
   },
   "file_extension": ".py",
   "mimetype": "text/x-python",
   "name": "python",
   "nbconvert_exporter": "python",
   "pygments_lexer": "ipython3",
   "version": "3.9.5"
  },
  "metadata": {
   "interpreter": {
    "hash": "7812ea015bdcee6f23a998adcdd2ef97c151c0c241b7b7070987d9313e41299d"
   }
  },
  "orig_nbformat": 2
 },
 "nbformat": 4,
 "nbformat_minor": 2
}